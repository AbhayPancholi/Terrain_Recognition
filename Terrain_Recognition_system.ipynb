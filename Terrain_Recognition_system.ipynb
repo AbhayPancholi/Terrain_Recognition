{
  "cells": [
    {
      "cell_type": "code",
      "execution_count": null,
      "metadata": {
        "colab": {
          "base_uri": "https://localhost:8080/"
        },
        "id": "x9A-ez22QoaE",
        "outputId": "2ba835f9-ba5e-4e7d-efb0-6742d7ca0468"
      },
      "outputs": [
        {
          "output_type": "stream",
          "name": "stdout",
          "text": [
            "Drive already mounted at /content/drive; to attempt to forcibly remount, call drive.mount(\"/content/drive\", force_remount=True).\n"
          ]
        }
      ],
      "source": [
        "from google.colab import drive\n",
        "drive.mount('/content/drive')"
      ]
    },
    {
      "cell_type": "code",
      "execution_count": null,
      "metadata": {
        "id": "nxla26yOQQzu"
      },
      "outputs": [],
      "source": [
        "import tensorflow\n",
        "from tensorflow import keras\n",
        "from keras.layers import Flatten, Dense, Input, Dropout, Add\n",
        "from keras.preprocessing.image import ImageDataGenerator\n",
        "from keras import Model\n",
        "from keras.regularizers import l2"
      ]
    },
    {
      "cell_type": "code",
      "execution_count": null,
      "metadata": {
        "id": "gwhaZ5ngN13E"
      },
      "outputs": [],
      "source": [
        "datagen = ImageDataGenerator(rescale=1./255, rotation_range=20, width_shift_range=0.2, zoom_range=[0.8, 1.2],\n",
        "                             horizontal_flip=True,vertical_flip=True, validation_split=0.2)"
      ]
    },
    {
      "cell_type": "code",
      "execution_count": null,
      "metadata": {
        "id": "kRBGopAHNsea"
      },
      "outputs": [],
      "source": [
        "path = '/content/drive/MyDrive/Extras/New Terrain Images'"
      ]
    },
    {
      "cell_type": "code",
      "execution_count": null,
      "metadata": {
        "colab": {
          "base_uri": "https://localhost:8080/"
        },
        "id": "0QHnoDOsNzgl",
        "outputId": "4e2a91c9-1f6f-41d2-a102-46fc776a9c3f"
      },
      "outputs": [
        {
          "name": "stdout",
          "output_type": "stream",
          "text": [
            "Found 439 images belonging to 4 classes.\n",
            "Found 107 images belonging to 4 classes.\n"
          ]
        }
      ],
      "source": [
        "train_data = datagen.flow_from_directory(path, subset='training', target_size=(229,229), shuffle=True)\n",
        "val_data = datagen.flow_from_directory(path, subset='validation', target_size=(229,229), shuffle=True )"
      ]
    },
    {
      "cell_type": "code",
      "execution_count": null,
      "metadata": {
        "id": "-mwL8eckOPEF"
      },
      "outputs": [],
      "source": [
        "from keras.applications.xception import Xception\n",
        "input = Input(shape=(229,229,3))\n",
        "model = Xception(include_top=False, weights='imagenet', input_tensor=input)\n",
        "model.trainable=False"
      ]
    },
    {
      "cell_type": "code",
      "execution_count": null,
      "metadata": {
        "id": "lqrAwo1TOqbV"
      },
      "outputs": [],
      "source": [
        "output = model.output\n",
        "x = Flatten()(output)\n",
        "x = Dense(units = 256, activation='relu', kernel_regularizer=l2(0.01))(x)\n",
        "x = Dropout(0.3)(x)\n",
        "x = Dense(units = 125, activation='relu', kernel_regularizer=l2(0.01))(x)\n",
        "x = Dropout(0.3)(x)\n",
        "x = Dense(units = 4, activation='softmax')(x)\n",
        "final_model = Model(inputs=input, outputs=x)"
      ]
    },
    {
      "cell_type": "code",
      "execution_count": null,
      "metadata": {
        "id": "lBG7yuFfPJUf"
      },
      "outputs": [],
      "source": [
        "final_model.compile(loss='categorical_crossentropy', optimizer=keras.optimizers.Adam(learning_rate=0.0001), metrics=['accuracy'])"
      ]
    },
    {
      "cell_type": "code",
      "execution_count": null,
      "metadata": {
        "colab": {
          "base_uri": "https://localhost:8080/"
        },
        "id": "5VUyUAJnPYtX",
        "outputId": "8a7d76f1-42c5-4df3-eb71-95ef01ada966"
      },
      "outputs": [
        {
          "name": "stdout",
          "output_type": "stream",
          "text": [
            "Epoch 1/200\n",
            "14/14 [==============================] - 14s 776ms/step - loss: 7.9602 - accuracy: 0.4282 - val_loss: 7.4029 - val_accuracy: 0.5421\n",
            "Epoch 2/200\n",
            "14/14 [==============================] - 9s 627ms/step - loss: 7.3708 - accuracy: 0.5421 - val_loss: 6.8835 - val_accuracy: 0.6262\n",
            "Epoch 3/200\n",
            "14/14 [==============================] - 10s 706ms/step - loss: 6.9189 - accuracy: 0.5877 - val_loss: 6.5205 - val_accuracy: 0.6636\n",
            "Epoch 4/200\n",
            "14/14 [==============================] - 10s 726ms/step - loss: 6.4813 - accuracy: 0.6128 - val_loss: 6.1756 - val_accuracy: 0.6729\n",
            "Epoch 5/200\n",
            "14/14 [==============================] - 9s 676ms/step - loss: 6.0834 - accuracy: 0.6538 - val_loss: 5.8412 - val_accuracy: 0.6542\n",
            "Epoch 6/200\n",
            "14/14 [==============================] - 9s 659ms/step - loss: 5.8541 - accuracy: 0.6515 - val_loss: 5.7004 - val_accuracy: 0.6822\n",
            "Epoch 7/200\n",
            "14/14 [==============================] - 10s 723ms/step - loss: 5.6371 - accuracy: 0.6492 - val_loss: 5.3174 - val_accuracy: 0.7664\n",
            "Epoch 8/200\n",
            "14/14 [==============================] - 9s 673ms/step - loss: 5.4386 - accuracy: 0.6743 - val_loss: 5.2047 - val_accuracy: 0.7383\n",
            "Epoch 9/200\n",
            "14/14 [==============================] - 8s 598ms/step - loss: 5.1483 - accuracy: 0.7312 - val_loss: 5.1262 - val_accuracy: 0.6168\n",
            "Epoch 10/200\n",
            "14/14 [==============================] - 10s 738ms/step - loss: 4.9806 - accuracy: 0.7153 - val_loss: 4.8953 - val_accuracy: 0.7477\n",
            "Epoch 11/200\n",
            "14/14 [==============================] - 10s 705ms/step - loss: 4.8767 - accuracy: 0.7039 - val_loss: 4.6291 - val_accuracy: 0.7850\n",
            "Epoch 12/200\n",
            "14/14 [==============================] - 8s 591ms/step - loss: 4.6492 - accuracy: 0.7472 - val_loss: 4.5724 - val_accuracy: 0.7477\n",
            "Epoch 13/200\n",
            "14/14 [==============================] - 10s 720ms/step - loss: 4.5427 - accuracy: 0.7494 - val_loss: 4.4097 - val_accuracy: 0.7477\n",
            "Epoch 14/200\n",
            "14/14 [==============================] - 12s 881ms/step - loss: 4.4037 - accuracy: 0.7677 - val_loss: 4.3586 - val_accuracy: 0.7103\n",
            "Epoch 15/200\n",
            "14/14 [==============================] - 8s 607ms/step - loss: 4.3110 - accuracy: 0.7358 - val_loss: 4.1636 - val_accuracy: 0.7850\n",
            "Epoch 16/200\n",
            "14/14 [==============================] - 9s 601ms/step - loss: 4.1394 - accuracy: 0.7494 - val_loss: 4.0982 - val_accuracy: 0.7477\n",
            "Epoch 17/200\n",
            "14/14 [==============================] - 10s 726ms/step - loss: 4.0630 - accuracy: 0.7608 - val_loss: 3.9659 - val_accuracy: 0.7850\n",
            "Epoch 18/200\n",
            "14/14 [==============================] - 12s 884ms/step - loss: 3.9468 - accuracy: 0.7608 - val_loss: 3.8607 - val_accuracy: 0.7850\n",
            "Epoch 19/200\n",
            "14/14 [==============================] - 9s 666ms/step - loss: 3.8016 - accuracy: 0.7699 - val_loss: 3.7019 - val_accuracy: 0.8131\n",
            "Epoch 20/200\n",
            "14/14 [==============================] - 8s 593ms/step - loss: 3.7883 - accuracy: 0.7426 - val_loss: 3.7749 - val_accuracy: 0.7009\n",
            "Epoch 21/200\n",
            "14/14 [==============================] - 10s 696ms/step - loss: 3.6401 - accuracy: 0.7973 - val_loss: 3.6479 - val_accuracy: 0.7664\n",
            "Epoch 22/200\n",
            "14/14 [==============================] - 10s 699ms/step - loss: 3.5843 - accuracy: 0.7426 - val_loss: 3.4973 - val_accuracy: 0.8037\n",
            "Epoch 23/200\n",
            "14/14 [==============================] - 10s 711ms/step - loss: 3.4724 - accuracy: 0.7813 - val_loss: 3.5329 - val_accuracy: 0.7570\n",
            "Epoch 24/200\n",
            "14/14 [==============================] - 10s 663ms/step - loss: 3.3957 - accuracy: 0.8041 - val_loss: 3.3958 - val_accuracy: 0.7850\n",
            "Epoch 25/200\n",
            "14/14 [==============================] - 10s 701ms/step - loss: 3.2938 - accuracy: 0.7995 - val_loss: 3.3037 - val_accuracy: 0.7944\n",
            "Epoch 26/200\n",
            "14/14 [==============================] - 8s 597ms/step - loss: 3.2500 - accuracy: 0.8087 - val_loss: 3.3011 - val_accuracy: 0.7570\n",
            "Epoch 27/200\n",
            "14/14 [==============================] - 8s 576ms/step - loss: 3.0837 - accuracy: 0.8269 - val_loss: 3.2637 - val_accuracy: 0.7290\n",
            "Epoch 28/200\n",
            "14/14 [==============================] - 10s 700ms/step - loss: 3.0724 - accuracy: 0.8018 - val_loss: 3.0390 - val_accuracy: 0.8224\n",
            "Epoch 29/200\n",
            "14/14 [==============================] - 12s 873ms/step - loss: 3.0552 - accuracy: 0.7995 - val_loss: 3.0368 - val_accuracy: 0.8131\n",
            "Epoch 30/200\n",
            "14/14 [==============================] - 9s 663ms/step - loss: 2.9488 - accuracy: 0.8041 - val_loss: 2.9656 - val_accuracy: 0.7850\n",
            "Epoch 31/200\n",
            "14/14 [==============================] - 9s 627ms/step - loss: 2.8605 - accuracy: 0.8360 - val_loss: 3.0045 - val_accuracy: 0.7850\n",
            "Epoch 32/200\n",
            "14/14 [==============================] - 10s 708ms/step - loss: 2.8801 - accuracy: 0.7904 - val_loss: 2.9147 - val_accuracy: 0.7944\n",
            "Epoch 33/200\n",
            "14/14 [==============================] - 9s 629ms/step - loss: 2.7991 - accuracy: 0.8155 - val_loss: 2.8264 - val_accuracy: 0.8131\n",
            "Epoch 34/200\n",
            "14/14 [==============================] - 9s 657ms/step - loss: 2.7809 - accuracy: 0.7973 - val_loss: 2.7411 - val_accuracy: 0.8037\n",
            "Epoch 35/200\n",
            "14/14 [==============================] - 10s 693ms/step - loss: 2.6989 - accuracy: 0.8360 - val_loss: 2.8255 - val_accuracy: 0.7664\n",
            "Epoch 36/200\n",
            "14/14 [==============================] - 9s 647ms/step - loss: 2.6359 - accuracy: 0.8337 - val_loss: 2.7452 - val_accuracy: 0.7757\n",
            "Epoch 37/200\n",
            "14/14 [==============================] - 9s 610ms/step - loss: 2.5805 - accuracy: 0.8223 - val_loss: 2.6996 - val_accuracy: 0.8224\n",
            "Epoch 38/200\n",
            "14/14 [==============================] - 10s 702ms/step - loss: 2.5269 - accuracy: 0.8360 - val_loss: 2.6124 - val_accuracy: 0.8224\n",
            "Epoch 39/200\n",
            "14/14 [==============================] - 9s 657ms/step - loss: 2.5034 - accuracy: 0.8337 - val_loss: 2.5833 - val_accuracy: 0.8131\n",
            "Epoch 40/200\n",
            "14/14 [==============================] - 10s 665ms/step - loss: 2.4485 - accuracy: 0.8314 - val_loss: 2.4933 - val_accuracy: 0.8224\n",
            "Epoch 41/200\n",
            "14/14 [==============================] - 10s 695ms/step - loss: 2.4071 - accuracy: 0.8451 - val_loss: 2.5376 - val_accuracy: 0.8224\n",
            "Epoch 42/200\n",
            "14/14 [==============================] - 9s 655ms/step - loss: 2.3639 - accuracy: 0.8474 - val_loss: 2.4566 - val_accuracy: 0.8318\n",
            "Epoch 43/200\n",
            "14/14 [==============================] - 8s 571ms/step - loss: 2.3050 - accuracy: 0.8497 - val_loss: 2.3862 - val_accuracy: 0.8224\n",
            "Epoch 44/200\n",
            "14/14 [==============================] - 9s 686ms/step - loss: 2.3007 - accuracy: 0.8474 - val_loss: 2.4982 - val_accuracy: 0.7570\n",
            "Epoch 45/200\n",
            "14/14 [==============================] - 9s 660ms/step - loss: 2.2690 - accuracy: 0.8360 - val_loss: 2.4155 - val_accuracy: 0.7664\n",
            "Epoch 46/200\n",
            "14/14 [==============================] - 8s 575ms/step - loss: 2.2345 - accuracy: 0.8405 - val_loss: 2.2964 - val_accuracy: 0.8131\n",
            "Epoch 47/200\n",
            "14/14 [==============================] - 9s 614ms/step - loss: 2.2492 - accuracy: 0.8451 - val_loss: 2.3228 - val_accuracy: 0.8224\n",
            "Epoch 48/200\n",
            "14/14 [==============================] - 10s 697ms/step - loss: 2.2307 - accuracy: 0.8383 - val_loss: 2.2480 - val_accuracy: 0.8411\n",
            "Epoch 49/200\n",
            "14/14 [==============================] - 9s 656ms/step - loss: 2.1338 - accuracy: 0.8588 - val_loss: 2.3312 - val_accuracy: 0.7850\n",
            "Epoch 50/200\n",
            "14/14 [==============================] - 9s 620ms/step - loss: 2.1476 - accuracy: 0.8246 - val_loss: 2.2905 - val_accuracy: 0.7664\n",
            "Epoch 51/200\n",
            "14/14 [==============================] - 10s 705ms/step - loss: 2.0662 - accuracy: 0.8724 - val_loss: 2.2069 - val_accuracy: 0.8318\n",
            "Epoch 52/200\n",
            "14/14 [==============================] - 9s 616ms/step - loss: 2.0282 - accuracy: 0.8793 - val_loss: 2.2896 - val_accuracy: 0.7757\n",
            "Epoch 53/200\n",
            "14/14 [==============================] - 9s 645ms/step - loss: 1.9802 - accuracy: 0.8793 - val_loss: 2.2335 - val_accuracy: 0.7850\n",
            "Epoch 54/200\n",
            "14/14 [==============================] - 10s 696ms/step - loss: 1.9812 - accuracy: 0.8610 - val_loss: 2.1120 - val_accuracy: 0.8131\n",
            "Epoch 55/200\n",
            "14/14 [==============================] - 8s 597ms/step - loss: 1.9843 - accuracy: 0.8656 - val_loss: 2.2272 - val_accuracy: 0.7757\n",
            "Epoch 56/200\n",
            "14/14 [==============================] - 8s 581ms/step - loss: 1.9178 - accuracy: 0.8656 - val_loss: 2.2080 - val_accuracy: 0.7850\n",
            "Epoch 57/200\n",
            "14/14 [==============================] - 11s 778ms/step - loss: 1.8749 - accuracy: 0.8907 - val_loss: 2.0915 - val_accuracy: 0.8411\n",
            "Epoch 58/200\n",
            "14/14 [==============================] - 10s 692ms/step - loss: 1.8847 - accuracy: 0.8793 - val_loss: 2.0252 - val_accuracy: 0.7944\n",
            "Epoch 59/200\n",
            "14/14 [==============================] - 8s 576ms/step - loss: 1.9393 - accuracy: 0.8428 - val_loss: 2.1737 - val_accuracy: 0.7570\n",
            "Epoch 60/200\n",
            "14/14 [==============================] - 9s 695ms/step - loss: 1.8617 - accuracy: 0.8656 - val_loss: 2.0743 - val_accuracy: 0.8318\n",
            "Epoch 61/200\n",
            "14/14 [==============================] - 12s 858ms/step - loss: 1.8521 - accuracy: 0.8565 - val_loss: 1.9709 - val_accuracy: 0.8131\n",
            "Epoch 62/200\n",
            "14/14 [==============================] - 8s 567ms/step - loss: 1.8107 - accuracy: 0.8610 - val_loss: 2.0804 - val_accuracy: 0.7477\n",
            "Epoch 63/200\n",
            "14/14 [==============================] - 10s 675ms/step - loss: 1.7864 - accuracy: 0.8702 - val_loss: 2.1284 - val_accuracy: 0.7757\n",
            "Epoch 64/200\n",
            "14/14 [==============================] - 10s 701ms/step - loss: 1.7661 - accuracy: 0.8633 - val_loss: 1.8931 - val_accuracy: 0.8131\n",
            "Epoch 65/200\n",
            "14/14 [==============================] - 8s 574ms/step - loss: 1.7676 - accuracy: 0.8656 - val_loss: 1.9398 - val_accuracy: 0.8131\n",
            "Epoch 66/200\n",
            "14/14 [==============================] - 9s 684ms/step - loss: 1.6912 - accuracy: 0.8907 - val_loss: 1.9619 - val_accuracy: 0.7757\n",
            "Epoch 67/200\n",
            "14/14 [==============================] - 9s 687ms/step - loss: 1.7430 - accuracy: 0.8838 - val_loss: 1.8695 - val_accuracy: 0.8131\n",
            "Epoch 68/200\n",
            "14/14 [==============================] - 8s 578ms/step - loss: 1.6468 - accuracy: 0.8929 - val_loss: 1.9572 - val_accuracy: 0.7570\n",
            "Epoch 69/200\n",
            "14/14 [==============================] - 9s 683ms/step - loss: 1.6913 - accuracy: 0.8747 - val_loss: 1.7912 - val_accuracy: 0.8411\n",
            "Epoch 70/200\n",
            "14/14 [==============================] - 9s 683ms/step - loss: 1.6639 - accuracy: 0.8702 - val_loss: 1.8132 - val_accuracy: 0.8411\n",
            "Epoch 71/200\n",
            "14/14 [==============================] - 8s 566ms/step - loss: 1.5850 - accuracy: 0.9043 - val_loss: 1.9959 - val_accuracy: 0.7570\n",
            "Epoch 72/200\n",
            "14/14 [==============================] - 9s 643ms/step - loss: 1.6382 - accuracy: 0.8633 - val_loss: 1.8878 - val_accuracy: 0.7944\n",
            "Epoch 73/200\n",
            "14/14 [==============================] - 9s 700ms/step - loss: 1.6001 - accuracy: 0.8861 - val_loss: 1.8433 - val_accuracy: 0.8411\n",
            "Epoch 74/200\n",
            "14/14 [==============================] - 12s 854ms/step - loss: 1.5859 - accuracy: 0.8793 - val_loss: 1.9426 - val_accuracy: 0.7757\n",
            "Epoch 75/200\n",
            "14/14 [==============================] - 9s 685ms/step - loss: 1.5396 - accuracy: 0.8884 - val_loss: 1.9268 - val_accuracy: 0.7850\n",
            "Epoch 76/200\n",
            "14/14 [==============================] - 9s 675ms/step - loss: 1.5237 - accuracy: 0.8929 - val_loss: 1.6927 - val_accuracy: 0.8131\n",
            "Epoch 77/200\n",
            "14/14 [==============================] - 8s 575ms/step - loss: 1.5328 - accuracy: 0.8929 - val_loss: 1.8319 - val_accuracy: 0.7664\n",
            "Epoch 78/200\n",
            "14/14 [==============================] - 10s 695ms/step - loss: 1.5246 - accuracy: 0.8884 - val_loss: 1.7901 - val_accuracy: 0.8318\n",
            "Epoch 79/200\n",
            "14/14 [==============================] - 9s 683ms/step - loss: 1.5019 - accuracy: 0.8884 - val_loss: 1.8245 - val_accuracy: 0.7850\n",
            "Epoch 80/200\n",
            "14/14 [==============================] - 8s 574ms/step - loss: 1.4703 - accuracy: 0.8793 - val_loss: 1.7217 - val_accuracy: 0.8131\n",
            "Epoch 81/200\n",
            "14/14 [==============================] - 9s 679ms/step - loss: 1.4426 - accuracy: 0.8998 - val_loss: 1.7846 - val_accuracy: 0.7757\n",
            "Epoch 82/200\n",
            "14/14 [==============================] - 9s 649ms/step - loss: 1.4811 - accuracy: 0.8975 - val_loss: 1.6574 - val_accuracy: 0.8318\n",
            "Epoch 83/200\n",
            "14/14 [==============================] - 8s 571ms/step - loss: 1.4849 - accuracy: 0.8724 - val_loss: 1.5549 - val_accuracy: 0.8505\n",
            "Epoch 84/200\n",
            "14/14 [==============================] - 9s 682ms/step - loss: 1.4721 - accuracy: 0.8588 - val_loss: 1.6530 - val_accuracy: 0.8037\n",
            "Epoch 85/200\n",
            "14/14 [==============================] - 9s 639ms/step - loss: 1.4968 - accuracy: 0.8519 - val_loss: 1.7142 - val_accuracy: 0.8131\n",
            "Epoch 86/200\n",
            "14/14 [==============================] - 9s 589ms/step - loss: 1.4688 - accuracy: 0.8770 - val_loss: 1.6858 - val_accuracy: 0.7664\n",
            "Epoch 87/200\n",
            "14/14 [==============================] - 9s 675ms/step - loss: 1.3934 - accuracy: 0.8998 - val_loss: 1.5893 - val_accuracy: 0.8411\n",
            "Epoch 88/200\n",
            "14/14 [==============================] - 8s 594ms/step - loss: 1.4113 - accuracy: 0.8907 - val_loss: 1.7360 - val_accuracy: 0.7944\n",
            "Epoch 89/200\n",
            "14/14 [==============================] - 9s 647ms/step - loss: 1.3451 - accuracy: 0.9066 - val_loss: 1.6647 - val_accuracy: 0.7850\n",
            "Epoch 90/200\n",
            "14/14 [==============================] - 9s 685ms/step - loss: 1.4065 - accuracy: 0.8838 - val_loss: 1.6477 - val_accuracy: 0.7664\n",
            "Epoch 91/200\n",
            "14/14 [==============================] - 8s 571ms/step - loss: 1.4044 - accuracy: 0.8884 - val_loss: 1.7082 - val_accuracy: 0.7850\n",
            "Epoch 92/200\n",
            "14/14 [==============================] - 9s 682ms/step - loss: 1.3568 - accuracy: 0.8975 - val_loss: 1.6518 - val_accuracy: 0.8037\n",
            "Epoch 93/200\n",
            "14/14 [==============================] - 9s 686ms/step - loss: 1.3518 - accuracy: 0.8952 - val_loss: 1.5525 - val_accuracy: 0.8224\n",
            "Epoch 94/200\n",
            "14/14 [==============================] - 8s 560ms/step - loss: 1.3545 - accuracy: 0.8952 - val_loss: 1.5394 - val_accuracy: 0.8131\n",
            "Epoch 95/200\n",
            "14/14 [==============================] - 9s 674ms/step - loss: 1.3584 - accuracy: 0.8907 - val_loss: 1.5860 - val_accuracy: 0.8131\n",
            "Epoch 96/200\n",
            "14/14 [==============================] - 9s 672ms/step - loss: 1.3287 - accuracy: 0.8907 - val_loss: 1.7232 - val_accuracy: 0.7850\n",
            "Epoch 97/200\n",
            "14/14 [==============================] - 8s 579ms/step - loss: 1.3494 - accuracy: 0.8724 - val_loss: 1.5692 - val_accuracy: 0.8037\n",
            "Epoch 98/200\n",
            "14/14 [==============================] - 9s 682ms/step - loss: 1.3779 - accuracy: 0.8633 - val_loss: 1.4278 - val_accuracy: 0.8411\n",
            "Epoch 99/200\n",
            "14/14 [==============================] - 9s 626ms/step - loss: 1.2754 - accuracy: 0.8998 - val_loss: 1.4720 - val_accuracy: 0.8224\n",
            "Epoch 100/200\n",
            "14/14 [==============================] - 9s 620ms/step - loss: 1.2863 - accuracy: 0.8838 - val_loss: 1.5316 - val_accuracy: 0.8505\n",
            "Epoch 101/200\n",
            "14/14 [==============================] - 10s 686ms/step - loss: 1.3071 - accuracy: 0.8679 - val_loss: 1.6020 - val_accuracy: 0.7664\n",
            "Epoch 102/200\n",
            "14/14 [==============================] - 9s 653ms/step - loss: 1.2609 - accuracy: 0.8861 - val_loss: 1.4912 - val_accuracy: 0.8411\n",
            "Epoch 103/200\n",
            "14/14 [==============================] - 8s 588ms/step - loss: 1.2752 - accuracy: 0.9043 - val_loss: 1.4957 - val_accuracy: 0.8224\n",
            "Epoch 104/200\n",
            "14/14 [==============================] - 10s 699ms/step - loss: 1.3095 - accuracy: 0.8815 - val_loss: 1.6042 - val_accuracy: 0.7570\n",
            "Epoch 105/200\n",
            "14/14 [==============================] - 12s 849ms/step - loss: 1.2317 - accuracy: 0.9043 - val_loss: 1.4512 - val_accuracy: 0.8224\n",
            "Epoch 106/200\n",
            "14/14 [==============================] - 9s 639ms/step - loss: 1.2225 - accuracy: 0.9180 - val_loss: 1.5604 - val_accuracy: 0.8037\n",
            "Epoch 107/200\n",
            "14/14 [==============================] - 10s 721ms/step - loss: 1.2389 - accuracy: 0.8998 - val_loss: 1.6671 - val_accuracy: 0.7570\n",
            "Epoch 108/200\n",
            "14/14 [==============================] - 9s 649ms/step - loss: 1.2373 - accuracy: 0.8884 - val_loss: 1.4974 - val_accuracy: 0.8411\n",
            "Epoch 109/200\n",
            "14/14 [==============================] - 9s 604ms/step - loss: 1.2526 - accuracy: 0.8702 - val_loss: 1.5394 - val_accuracy: 0.7664\n",
            "Epoch 110/200\n",
            "14/14 [==============================] - 10s 685ms/step - loss: 1.2464 - accuracy: 0.8724 - val_loss: 1.6941 - val_accuracy: 0.7570\n",
            "Epoch 111/200\n",
            "14/14 [==============================] - 10s 735ms/step - loss: 1.1902 - accuracy: 0.8952 - val_loss: 1.3581 - val_accuracy: 0.8505\n",
            "Epoch 112/200\n",
            "14/14 [==============================] - 9s 664ms/step - loss: 1.1782 - accuracy: 0.8975 - val_loss: 1.3631 - val_accuracy: 0.8224\n",
            "Epoch 113/200\n",
            "14/14 [==============================] - 9s 649ms/step - loss: 1.1483 - accuracy: 0.9112 - val_loss: 1.4173 - val_accuracy: 0.8411\n",
            "Epoch 114/200\n",
            "14/14 [==============================] - 10s 734ms/step - loss: 1.1723 - accuracy: 0.8702 - val_loss: 1.4705 - val_accuracy: 0.8131\n",
            "Epoch 115/200\n",
            "14/14 [==============================] - 9s 676ms/step - loss: 1.1697 - accuracy: 0.8998 - val_loss: 1.4737 - val_accuracy: 0.8411\n",
            "Epoch 116/200\n",
            "14/14 [==============================] - 9s 644ms/step - loss: 1.1775 - accuracy: 0.8861 - val_loss: 1.3339 - val_accuracy: 0.8785\n",
            "Epoch 117/200\n",
            "14/14 [==============================] - 10s 742ms/step - loss: 1.1590 - accuracy: 0.8747 - val_loss: 1.3502 - val_accuracy: 0.7944\n",
            "Epoch 118/200\n",
            "14/14 [==============================] - 12s 882ms/step - loss: 1.1358 - accuracy: 0.9226 - val_loss: 1.3818 - val_accuracy: 0.8411\n",
            "Epoch 119/200\n",
            "14/14 [==============================] - 9s 611ms/step - loss: 1.1896 - accuracy: 0.8907 - val_loss: 1.4518 - val_accuracy: 0.7850\n",
            "Epoch 120/200\n",
            "14/14 [==============================] - 10s 691ms/step - loss: 1.1569 - accuracy: 0.8815 - val_loss: 1.4744 - val_accuracy: 0.8224\n",
            "Epoch 121/200\n",
            "14/14 [==============================] - 10s 736ms/step - loss: 1.1807 - accuracy: 0.8793 - val_loss: 1.3232 - val_accuracy: 0.8131\n",
            "Epoch 122/200\n",
            "14/14 [==============================] - 8s 608ms/step - loss: 1.1520 - accuracy: 0.8884 - val_loss: 1.3767 - val_accuracy: 0.8224\n",
            "Epoch 123/200\n",
            "14/14 [==============================] - 10s 695ms/step - loss: 1.1255 - accuracy: 0.8952 - val_loss: 1.4247 - val_accuracy: 0.8318\n",
            "Epoch 124/200\n",
            "14/14 [==============================] - 10s 711ms/step - loss: 1.1802 - accuracy: 0.8770 - val_loss: 1.4265 - val_accuracy: 0.8224\n",
            "Epoch 125/200\n",
            "14/14 [==============================] - 8s 592ms/step - loss: 1.1172 - accuracy: 0.9043 - val_loss: 1.2821 - val_accuracy: 0.8318\n",
            "Epoch 126/200\n",
            "14/14 [==============================] - 10s 701ms/step - loss: 1.1455 - accuracy: 0.8861 - val_loss: 1.2817 - val_accuracy: 0.8411\n",
            "Epoch 127/200\n",
            "14/14 [==============================] - 10s 703ms/step - loss: 1.0954 - accuracy: 0.9066 - val_loss: 1.3684 - val_accuracy: 0.8037\n",
            "Epoch 128/200\n",
            "14/14 [==============================] - 10s 689ms/step - loss: 1.1079 - accuracy: 0.8952 - val_loss: 1.4917 - val_accuracy: 0.8037\n",
            "Epoch 129/200\n",
            "14/14 [==============================] - 9s 651ms/step - loss: 1.0649 - accuracy: 0.9043 - val_loss: 1.4304 - val_accuracy: 0.7944\n",
            "Epoch 130/200\n",
            "14/14 [==============================] - 10s 711ms/step - loss: 1.0648 - accuracy: 0.9134 - val_loss: 1.4672 - val_accuracy: 0.8224\n",
            "Epoch 131/200\n",
            "14/14 [==============================] - 9s 627ms/step - loss: 1.1062 - accuracy: 0.8907 - val_loss: 1.4317 - val_accuracy: 0.8224\n",
            "Epoch 132/200\n",
            "14/14 [==============================] - 9s 648ms/step - loss: 1.1713 - accuracy: 0.8815 - val_loss: 1.2680 - val_accuracy: 0.8037\n",
            "Epoch 133/200\n",
            "14/14 [==============================] - 10s 715ms/step - loss: 1.1712 - accuracy: 0.8565 - val_loss: 1.4905 - val_accuracy: 0.7383\n",
            "Epoch 134/200\n",
            "14/14 [==============================] - 9s 657ms/step - loss: 1.0692 - accuracy: 0.8884 - val_loss: 1.4554 - val_accuracy: 0.7290\n",
            "Epoch 135/200\n",
            "14/14 [==============================] - 9s 605ms/step - loss: 1.1024 - accuracy: 0.8702 - val_loss: 1.4416 - val_accuracy: 0.7850\n",
            "Epoch 136/200\n",
            "14/14 [==============================] - 10s 710ms/step - loss: 1.1116 - accuracy: 0.8815 - val_loss: 1.4927 - val_accuracy: 0.7664\n",
            "Epoch 137/200\n",
            "14/14 [==============================] - 9s 632ms/step - loss: 1.0876 - accuracy: 0.8929 - val_loss: 1.3529 - val_accuracy: 0.8037\n",
            "Epoch 138/200\n",
            "14/14 [==============================] - 8s 583ms/step - loss: 1.0261 - accuracy: 0.9271 - val_loss: 1.3242 - val_accuracy: 0.8131\n",
            "Epoch 139/200\n",
            "14/14 [==============================] - 10s 665ms/step - loss: 0.9996 - accuracy: 0.9362 - val_loss: 1.3824 - val_accuracy: 0.7850\n",
            "Epoch 140/200\n",
            "14/14 [==============================] - 10s 708ms/step - loss: 1.0124 - accuracy: 0.9226 - val_loss: 1.3037 - val_accuracy: 0.8411\n",
            "Epoch 141/200\n",
            "14/14 [==============================] - 8s 600ms/step - loss: 1.0305 - accuracy: 0.8998 - val_loss: 1.3580 - val_accuracy: 0.7850\n",
            "Epoch 142/200\n",
            "14/14 [==============================] - 9s 592ms/step - loss: 1.0020 - accuracy: 0.9134 - val_loss: 1.3824 - val_accuracy: 0.8131\n",
            "Epoch 143/200\n",
            "14/14 [==============================] - 11s 773ms/step - loss: 0.9977 - accuracy: 0.9180 - val_loss: 1.5306 - val_accuracy: 0.7944\n",
            "Epoch 144/200\n",
            "14/14 [==============================] - 10s 692ms/step - loss: 1.0210 - accuracy: 0.9089 - val_loss: 1.3429 - val_accuracy: 0.8318\n",
            "Epoch 145/200\n",
            "14/14 [==============================] - 8s 583ms/step - loss: 1.0241 - accuracy: 0.8815 - val_loss: 1.3139 - val_accuracy: 0.7664\n",
            "Epoch 146/200\n",
            "14/14 [==============================] - 10s 703ms/step - loss: 0.9810 - accuracy: 0.8907 - val_loss: 1.2125 - val_accuracy: 0.8131\n",
            "Epoch 147/200\n",
            "14/14 [==============================] - 12s 890ms/step - loss: 0.9737 - accuracy: 0.9134 - val_loss: 1.3143 - val_accuracy: 0.8131\n",
            "Epoch 148/200\n",
            "14/14 [==============================] - 8s 592ms/step - loss: 1.0298 - accuracy: 0.8815 - val_loss: 1.3864 - val_accuracy: 0.7850\n",
            "Epoch 149/200\n",
            "14/14 [==============================] - 9s 663ms/step - loss: 0.9999 - accuracy: 0.8975 - val_loss: 1.0730 - val_accuracy: 0.8879\n",
            "Epoch 150/200\n",
            "14/14 [==============================] - 10s 694ms/step - loss: 1.0249 - accuracy: 0.8952 - val_loss: 1.2369 - val_accuracy: 0.8411\n",
            "Epoch 151/200\n",
            "14/14 [==============================] - 8s 580ms/step - loss: 1.0136 - accuracy: 0.8907 - val_loss: 1.3357 - val_accuracy: 0.8131\n",
            "Epoch 152/200\n",
            "14/14 [==============================] - 8s 580ms/step - loss: 0.9877 - accuracy: 0.8998 - val_loss: 1.2719 - val_accuracy: 0.7850\n",
            "Epoch 153/200\n",
            "14/14 [==============================] - 10s 706ms/step - loss: 1.0474 - accuracy: 0.8770 - val_loss: 1.3182 - val_accuracy: 0.7944\n",
            "Epoch 154/200\n",
            "14/14 [==============================] - 9s 661ms/step - loss: 0.9754 - accuracy: 0.9112 - val_loss: 1.2852 - val_accuracy: 0.7757\n",
            "Epoch 155/200\n",
            "14/14 [==============================] - 10s 721ms/step - loss: 1.0244 - accuracy: 0.8861 - val_loss: 1.2771 - val_accuracy: 0.8411\n",
            "Epoch 156/200\n",
            "14/14 [==============================] - 11s 797ms/step - loss: 0.9726 - accuracy: 0.9089 - val_loss: 1.4952 - val_accuracy: 0.7664\n",
            "Epoch 157/200\n",
            "14/14 [==============================] - 10s 702ms/step - loss: 0.9916 - accuracy: 0.9021 - val_loss: 1.3451 - val_accuracy: 0.8131\n",
            "Epoch 158/200\n",
            "14/14 [==============================] - 8s 584ms/step - loss: 0.9434 - accuracy: 0.9248 - val_loss: 1.1858 - val_accuracy: 0.8318\n",
            "Epoch 159/200\n",
            "14/14 [==============================] - 10s 721ms/step - loss: 0.9546 - accuracy: 0.9134 - val_loss: 1.3622 - val_accuracy: 0.8224\n",
            "Epoch 160/200\n",
            "14/14 [==============================] - 10s 692ms/step - loss: 0.9785 - accuracy: 0.8907 - val_loss: 1.3317 - val_accuracy: 0.7757\n",
            "Epoch 161/200\n",
            "14/14 [==============================] - 8s 593ms/step - loss: 1.0450 - accuracy: 0.8770 - val_loss: 1.1949 - val_accuracy: 0.8037\n",
            "Epoch 162/200\n",
            "14/14 [==============================] - 10s 709ms/step - loss: 0.9475 - accuracy: 0.8907 - val_loss: 1.2981 - val_accuracy: 0.7944\n",
            "Epoch 163/200\n",
            "14/14 [==============================] - 10s 695ms/step - loss: 0.9525 - accuracy: 0.8975 - val_loss: 1.2247 - val_accuracy: 0.8037\n",
            "Epoch 164/200\n",
            "14/14 [==============================] - 8s 588ms/step - loss: 0.9583 - accuracy: 0.8907 - val_loss: 1.1937 - val_accuracy: 0.8411\n",
            "Epoch 165/200\n",
            "14/14 [==============================] - 10s 707ms/step - loss: 0.9383 - accuracy: 0.9112 - val_loss: 1.1685 - val_accuracy: 0.8411\n",
            "Epoch 166/200\n",
            "14/14 [==============================] - 12s 853ms/step - loss: 0.9399 - accuracy: 0.9089 - val_loss: 1.2936 - val_accuracy: 0.7850\n",
            "Epoch 167/200\n",
            "14/14 [==============================] - 8s 582ms/step - loss: 0.9397 - accuracy: 0.8907 - val_loss: 1.1496 - val_accuracy: 0.8318\n",
            "Epoch 168/200\n",
            "14/14 [==============================] - 10s 677ms/step - loss: 0.9561 - accuracy: 0.9066 - val_loss: 1.2336 - val_accuracy: 0.8131\n",
            "Epoch 169/200\n",
            "14/14 [==============================] - 10s 693ms/step - loss: 0.9746 - accuracy: 0.8838 - val_loss: 1.1872 - val_accuracy: 0.8692\n",
            "Epoch 170/200\n",
            "14/14 [==============================] - 8s 580ms/step - loss: 0.8824 - accuracy: 0.9317 - val_loss: 1.3665 - val_accuracy: 0.7850\n",
            "Epoch 171/200\n",
            "14/14 [==============================] - 10s 691ms/step - loss: 0.9065 - accuracy: 0.9180 - val_loss: 1.3168 - val_accuracy: 0.8131\n",
            "Epoch 172/200\n",
            "14/14 [==============================] - 10s 690ms/step - loss: 0.9241 - accuracy: 0.9203 - val_loss: 1.2117 - val_accuracy: 0.8411\n",
            "Epoch 173/200\n",
            "14/14 [==============================] - 8s 580ms/step - loss: 0.9132 - accuracy: 0.9066 - val_loss: 1.2363 - val_accuracy: 0.8037\n",
            "Epoch 174/200\n",
            "14/14 [==============================] - 9s 656ms/step - loss: 0.8902 - accuracy: 0.9089 - val_loss: 1.1529 - val_accuracy: 0.8224\n",
            "Epoch 175/200\n",
            "14/14 [==============================] - 10s 691ms/step - loss: 0.9260 - accuracy: 0.8952 - val_loss: 1.1875 - val_accuracy: 0.8037\n",
            "Epoch 176/200\n",
            "14/14 [==============================] - 8s 573ms/step - loss: 0.8301 - accuracy: 0.9408 - val_loss: 1.1954 - val_accuracy: 0.7944\n",
            "Epoch 177/200\n",
            "14/14 [==============================] - 10s 701ms/step - loss: 0.8322 - accuracy: 0.9294 - val_loss: 1.1817 - val_accuracy: 0.8785\n",
            "Epoch 178/200\n",
            "14/14 [==============================] - 10s 695ms/step - loss: 0.8830 - accuracy: 0.9043 - val_loss: 1.2827 - val_accuracy: 0.7944\n",
            "Epoch 179/200\n",
            "14/14 [==============================] - 8s 585ms/step - loss: 0.9453 - accuracy: 0.8815 - val_loss: 1.1898 - val_accuracy: 0.7850\n",
            "Epoch 180/200\n",
            "14/14 [==============================] - 9s 634ms/step - loss: 0.9163 - accuracy: 0.9089 - val_loss: 1.3107 - val_accuracy: 0.7664\n",
            "Epoch 181/200\n",
            "14/14 [==============================] - 9s 686ms/step - loss: 0.9163 - accuracy: 0.9021 - val_loss: 1.2109 - val_accuracy: 0.7944\n",
            "Epoch 182/200\n",
            "14/14 [==============================] - 8s 580ms/step - loss: 0.8622 - accuracy: 0.9157 - val_loss: 1.3009 - val_accuracy: 0.7850\n",
            "Epoch 183/200\n",
            "14/14 [==============================] - 10s 686ms/step - loss: 0.9087 - accuracy: 0.8815 - val_loss: 1.2238 - val_accuracy: 0.8131\n",
            "Epoch 184/200\n",
            "14/14 [==============================] - 10s 717ms/step - loss: 0.9310 - accuracy: 0.8907 - val_loss: 1.2647 - val_accuracy: 0.8318\n",
            "Epoch 185/200\n",
            "14/14 [==============================] - 9s 658ms/step - loss: 1.0030 - accuracy: 0.8679 - val_loss: 1.0747 - val_accuracy: 0.8505\n",
            "Epoch 186/200\n",
            "14/14 [==============================] - 9s 608ms/step - loss: 0.9592 - accuracy: 0.8770 - val_loss: 1.0821 - val_accuracy: 0.8972\n",
            "Epoch 187/200\n",
            "14/14 [==============================] - 9s 685ms/step - loss: 0.9016 - accuracy: 0.8998 - val_loss: 1.1280 - val_accuracy: 0.8318\n",
            "Epoch 188/200\n",
            "14/14 [==============================] - 9s 646ms/step - loss: 0.8669 - accuracy: 0.9112 - val_loss: 1.2400 - val_accuracy: 0.8224\n",
            "Epoch 189/200\n",
            "14/14 [==============================] - 9s 603ms/step - loss: 0.8849 - accuracy: 0.9089 - val_loss: 1.2025 - val_accuracy: 0.7477\n",
            "Epoch 190/200\n",
            "14/14 [==============================] - 9s 681ms/step - loss: 0.9041 - accuracy: 0.8907 - val_loss: 1.2658 - val_accuracy: 0.7477\n",
            "Epoch 191/200\n",
            "14/14 [==============================] - 9s 620ms/step - loss: 0.8717 - accuracy: 0.9089 - val_loss: 1.2018 - val_accuracy: 0.8318\n",
            "Epoch 192/200\n",
            "14/14 [==============================] - 9s 613ms/step - loss: 0.8558 - accuracy: 0.9203 - val_loss: 1.1434 - val_accuracy: 0.8411\n",
            "Epoch 193/200\n",
            "14/14 [==============================] - 10s 690ms/step - loss: 0.8442 - accuracy: 0.9066 - val_loss: 1.2663 - val_accuracy: 0.7944\n",
            "Epoch 194/200\n",
            "14/14 [==============================] - 9s 643ms/step - loss: 0.8746 - accuracy: 0.9043 - val_loss: 1.2304 - val_accuracy: 0.8037\n",
            "Epoch 195/200\n",
            "14/14 [==============================] - 8s 571ms/step - loss: 0.8403 - accuracy: 0.9180 - val_loss: 1.0884 - val_accuracy: 0.8224\n",
            "Epoch 196/200\n",
            "14/14 [==============================] - 9s 682ms/step - loss: 0.8909 - accuracy: 0.8975 - val_loss: 1.2424 - val_accuracy: 0.7757\n",
            "Epoch 197/200\n",
            "14/14 [==============================] - 9s 657ms/step - loss: 0.8781 - accuracy: 0.9180 - val_loss: 1.3207 - val_accuracy: 0.7850\n",
            "Epoch 198/200\n",
            "14/14 [==============================] - 8s 575ms/step - loss: 0.8576 - accuracy: 0.8998 - val_loss: 1.3920 - val_accuracy: 0.7570\n",
            "Epoch 199/200\n",
            "14/14 [==============================] - 9s 685ms/step - loss: 0.8924 - accuracy: 0.8929 - val_loss: 1.1680 - val_accuracy: 0.8224\n",
            "Epoch 200/200\n",
            "14/14 [==============================] - 8s 609ms/step - loss: 0.8539 - accuracy: 0.9043 - val_loss: 1.1253 - val_accuracy: 0.8505\n"
          ]
        },
        {
          "data": {
            "text/plain": [
              "<keras.src.callbacks.History at 0x7a21f61d5b40>"
            ]
          },
          "execution_count": 26,
          "metadata": {},
          "output_type": "execute_result"
        }
      ],
      "source": [
        "final_model.fit(train_data, batch_size=32, epochs=200, validation_data=val_data)"
      ]
    },
    {
      "cell_type": "code",
      "execution_count": null,
      "metadata": {
        "colab": {
          "base_uri": "https://localhost:8080/"
        },
        "id": "PqlAldoxOJ7C",
        "outputId": "5acb4b99-7029-44f6-b424-0ff75a96692f"
      },
      "outputs": [
        {
          "name": "stderr",
          "output_type": "stream",
          "text": [
            "/usr/local/lib/python3.10/dist-packages/keras/src/engine/training.py:3000: UserWarning: You are saving your model as an HDF5 file via `model.save()`. This file format is considered legacy. We recommend using instead the native Keras format, e.g. `model.save('my_model.keras')`.\n",
            "  saving_api.save_model(\n"
          ]
        }
      ],
      "source": [
        "final_model.save('/content/drive/MyDrive/Extras/Terrain.h5')"
      ]
    },
    {
      "cell_type": "code",
      "execution_count": null,
      "metadata": {
        "id": "xVf9V-rGOJwO"
      },
      "outputs": [],
      "source": [
        "final_model.save('/content/drive/MyDrive/Extras/Terrain_model.keras')"
      ]
    },
    {
      "cell_type": "code",
      "execution_count": null,
      "metadata": {
        "id": "Zu9QQq6zTdSd"
      },
      "outputs": [],
      "source": [
        "model = keras.models.load_model('/content/drive/MyDrive/Extras/Terrain.h5')"
      ]
    },
    {
      "cell_type": "code",
      "execution_count": null,
      "metadata": {
        "id": "Fbhwx75SUkYB"
      },
      "outputs": [],
      "source": [
        "import tensorflow as tf\n",
        "from tensorflow import keras\n",
        "from keras.preprocessing import image\n",
        "import numpy as np"
      ]
    },
    {
      "cell_type": "code",
      "execution_count": null,
      "metadata": {
        "id": "HQgVEDbmUeWq"
      },
      "outputs": [],
      "source": [
        "# Load the new image\n",
        "sandy_img = '/content/drive/MyDrive/Extras/sandy terrain.jpg'\n",
        "marshy_img_path = '/content/drive/MyDrive/Extras/grass terrain.jpg'\n",
        "rocky_img = '/content/drive/MyDrive/Extras/rocky terrain.jpg'\n",
        "grass_img = '/content/drive/MyDrive/Extras/grass terrain.jpg'\n",
        "img = image.load_img(grass_img, target_size=(229, 229))  # Adjust target_size as needed\n",
        "\n",
        "# Convert the image to a numpy array\n",
        "img_array = image.img_to_array(img)\n",
        "\n",
        "# Expand the dimensions to match the input shape of your model\n",
        "img_array = np.expand_dims(img_array, axis=0)\n",
        "\n",
        "# Perform any additional preprocessing required by your model (e.g., normalization)\n",
        "img_array = img_array / 255.0  # Normalize pixel values if necessary\n"
      ]
    },
    {
      "cell_type": "code",
      "execution_count": null,
      "metadata": {
        "colab": {
          "base_uri": "https://localhost:8080/"
        },
        "id": "ysOq4Yk7VMvJ",
        "outputId": "6d112d57-e255-4479-fa19-b4aef61199cf"
      },
      "outputs": [
        {
          "name": "stdout",
          "output_type": "stream",
          "text": [
            "1/1 [==============================] - 0s 51ms/step\n"
          ]
        }
      ],
      "source": [
        "predictions = model.predict(img_array)"
      ]
    },
    {
      "cell_type": "code",
      "execution_count": null,
      "metadata": {
        "id": "u5kF9ORFU-8O"
      },
      "outputs": [],
      "source": [
        "\n",
        "# Decode the predictions (assuming it's a classification model)\n",
        "class_labels = ['Grass Terrain', 'Marshy', 'Rocky', 'sandy']  # Replace with your actual class labels\n",
        "predicted_class_index = np.argmax(predictions)\n",
        "predicted_class_label = class_labels[predicted_class_index]"
      ]
    },
    {
      "cell_type": "code",
      "execution_count": null,
      "metadata": {
        "colab": {
          "base_uri": "https://localhost:8080/"
        },
        "id": "NEYvCJrMUeTW",
        "outputId": "7f398059-7a88-4c8b-978a-e38137de2675"
      },
      "outputs": [
        {
          "data": {
            "text/plain": [
              "2"
            ]
          },
          "execution_count": 31,
          "metadata": {},
          "output_type": "execute_result"
        }
      ],
      "source": [
        "predicted_class_index"
      ]
    },
    {
      "cell_type": "code",
      "execution_count": null,
      "metadata": {
        "colab": {
          "base_uri": "https://localhost:8080/"
        },
        "id": "idAYWJ6eUeQF",
        "outputId": "c40639f7-cff2-48b4-c943-739649e0bfa9"
      },
      "outputs": [
        {
          "name": "stdout",
          "output_type": "stream",
          "text": [
            "Class Indices:\n",
            "{'Grass Terrain': 0, 'Marshy Terrain': 1, 'Rocky Terrain': 2, 'Sandy Terrain': 3}\n"
          ]
        }
      ],
      "source": [
        "# Retrieve the class indices\n",
        "class_indices = train_data.class_indices\n",
        "\n",
        "# Print the class indices\n",
        "print(\"Class Indices:\")\n",
        "print(class_indices)\n"
      ]
    },
    {
      "cell_type": "code",
      "execution_count": null,
      "metadata": {
        "colab": {
          "base_uri": "https://localhost:8080/"
        },
        "id": "gaqmJQZysAdA",
        "outputId": "153d6903-e433-4601-e89d-d406390c4556"
      },
      "outputs": [
        {
          "name": "stdout",
          "output_type": "stream",
          "text": [
            "Collecting gradio\n",
            "  Downloading gradio-3.45.0-py3-none-any.whl (20.2 MB)\n",
            "\u001b[2K     \u001b[90m━━━━━━━━━━━━━━━━━━━━━━━━━━━━━━━━━━━━━━━━\u001b[0m \u001b[32m20.2/20.2 MB\u001b[0m \u001b[31m22.7 MB/s\u001b[0m eta \u001b[36m0:00:00\u001b[0m\n",
            "\u001b[?25hCollecting aiofiles<24.0,>=22.0 (from gradio)\n",
            "  Downloading aiofiles-23.2.1-py3-none-any.whl (15 kB)\n",
            "Requirement already satisfied: altair<6.0,>=4.2.0 in /usr/local/lib/python3.10/dist-packages (from gradio) (4.2.2)\n",
            "Collecting fastapi (from gradio)\n",
            "  Downloading fastapi-0.103.1-py3-none-any.whl (66 kB)\n",
            "\u001b[2K     \u001b[90m━━━━━━━━━━━━━━━━━━━━━━━━━━━━━━━━━━━━━━━━\u001b[0m \u001b[32m66.2/66.2 kB\u001b[0m \u001b[31m7.0 MB/s\u001b[0m eta \u001b[36m0:00:00\u001b[0m\n",
            "\u001b[?25hCollecting ffmpy (from gradio)\n",
            "  Downloading ffmpy-0.3.1.tar.gz (5.5 kB)\n",
            "  Preparing metadata (setup.py) ... \u001b[?25l\u001b[?25hdone\n",
            "Collecting gradio-client==0.5.2 (from gradio)\n",
            "  Downloading gradio_client-0.5.2-py3-none-any.whl (298 kB)\n",
            "\u001b[2K     \u001b[90m━━━━━━━━━━━━━━━━━━━━━━━━━━━━━━━━━━━━━━\u001b[0m \u001b[32m298.3/298.3 kB\u001b[0m \u001b[31m22.1 MB/s\u001b[0m eta \u001b[36m0:00:00\u001b[0m\n",
            "\u001b[?25hCollecting httpx (from gradio)\n",
            "  Downloading httpx-0.25.0-py3-none-any.whl (75 kB)\n",
            "\u001b[2K     \u001b[90m━━━━━━━━━━━━━━━━━━━━━━━━━━━━━━━━━━━━━━━━\u001b[0m \u001b[32m75.7/75.7 kB\u001b[0m \u001b[31m8.7 MB/s\u001b[0m eta \u001b[36m0:00:00\u001b[0m\n",
            "\u001b[?25hCollecting huggingface-hub>=0.14.0 (from gradio)\n",
            "  Downloading huggingface_hub-0.17.3-py3-none-any.whl (295 kB)\n",
            "\u001b[2K     \u001b[90m━━━━━━━━━━━━━━━━━━━━━━━━━━━━━━━━━━━━━━\u001b[0m \u001b[32m295.0/295.0 kB\u001b[0m \u001b[31m13.2 MB/s\u001b[0m eta \u001b[36m0:00:00\u001b[0m\n",
            "\u001b[?25hRequirement already satisfied: importlib-resources<7.0,>=1.3 in /usr/local/lib/python3.10/dist-packages (from gradio) (6.0.1)\n",
            "Requirement already satisfied: jinja2<4.0 in /usr/local/lib/python3.10/dist-packages (from gradio) (3.1.2)\n",
            "Requirement already satisfied: markupsafe~=2.0 in /usr/local/lib/python3.10/dist-packages (from gradio) (2.1.3)\n",
            "Requirement already satisfied: matplotlib~=3.0 in /usr/local/lib/python3.10/dist-packages (from gradio) (3.7.1)\n",
            "Requirement already satisfied: numpy~=1.0 in /usr/local/lib/python3.10/dist-packages (from gradio) (1.23.5)\n",
            "Collecting orjson~=3.0 (from gradio)\n",
            "  Downloading orjson-3.9.7-cp310-cp310-manylinux_2_17_x86_64.manylinux2014_x86_64.whl (138 kB)\n",
            "\u001b[2K     \u001b[90m━━━━━━━━━━━━━━━━━━━━━━━━━━━━━━━━━━━━━━\u001b[0m \u001b[32m138.7/138.7 kB\u001b[0m \u001b[31m15.2 MB/s\u001b[0m eta \u001b[36m0:00:00\u001b[0m\n",
            "\u001b[?25hRequirement already satisfied: packaging in /usr/local/lib/python3.10/dist-packages (from gradio) (23.1)\n",
            "Requirement already satisfied: pandas<3.0,>=1.0 in /usr/local/lib/python3.10/dist-packages (from gradio) (1.5.3)\n",
            "Requirement already satisfied: pillow<11.0,>=8.0 in /usr/local/lib/python3.10/dist-packages (from gradio) (9.4.0)\n",
            "Requirement already satisfied: pydantic!=1.8,!=1.8.1,!=2.0.0,!=2.0.1,<3.0.0,>=1.7.4 in /usr/local/lib/python3.10/dist-packages (from gradio) (1.10.12)\n",
            "Collecting pydub (from gradio)\n",
            "  Downloading pydub-0.25.1-py2.py3-none-any.whl (32 kB)\n",
            "Collecting python-multipart (from gradio)\n",
            "  Downloading python_multipart-0.0.6-py3-none-any.whl (45 kB)\n",
            "\u001b[2K     \u001b[90m━━━━━━━━━━━━━━━━━━━━━━━━━━━━━━━━━━━━━━━━\u001b[0m \u001b[32m45.7/45.7 kB\u001b[0m \u001b[31m4.1 MB/s\u001b[0m eta \u001b[36m0:00:00\u001b[0m\n",
            "\u001b[?25hRequirement already satisfied: pyyaml<7.0,>=5.0 in /usr/local/lib/python3.10/dist-packages (from gradio) (6.0.1)\n",
            "Requirement already satisfied: requests~=2.0 in /usr/local/lib/python3.10/dist-packages (from gradio) (2.31.0)\n",
            "Collecting semantic-version~=2.0 (from gradio)\n",
            "  Downloading semantic_version-2.10.0-py2.py3-none-any.whl (15 kB)\n",
            "Requirement already satisfied: typing-extensions~=4.0 in /usr/local/lib/python3.10/dist-packages (from gradio) (4.5.0)\n",
            "Collecting uvicorn>=0.14.0 (from gradio)\n",
            "  Downloading uvicorn-0.23.2-py3-none-any.whl (59 kB)\n",
            "\u001b[2K     \u001b[90m━━━━━━━━━━━━━━━━━━━━━━━━━━━━━━━━━━━━━━━━\u001b[0m \u001b[32m59.5/59.5 kB\u001b[0m \u001b[31m6.5 MB/s\u001b[0m eta \u001b[36m0:00:00\u001b[0m\n",
            "\u001b[?25hCollecting websockets<12.0,>=10.0 (from gradio)\n",
            "  Downloading websockets-11.0.3-cp310-cp310-manylinux_2_5_x86_64.manylinux1_x86_64.manylinux_2_17_x86_64.manylinux2014_x86_64.whl (129 kB)\n",
            "\u001b[2K     \u001b[90m━━━━━━━━━━━━━━━━━━━━━━━━━━━━━━━━━━━━━━\u001b[0m \u001b[32m129.9/129.9 kB\u001b[0m \u001b[31m17.1 MB/s\u001b[0m eta \u001b[36m0:00:00\u001b[0m\n",
            "\u001b[?25hRequirement already satisfied: fsspec in /usr/local/lib/python3.10/dist-packages (from gradio-client==0.5.2->gradio) (2023.6.0)\n",
            "Requirement already satisfied: entrypoints in /usr/local/lib/python3.10/dist-packages (from altair<6.0,>=4.2.0->gradio) (0.4)\n",
            "Requirement already satisfied: jsonschema>=3.0 in /usr/local/lib/python3.10/dist-packages (from altair<6.0,>=4.2.0->gradio) (4.19.0)\n",
            "Requirement already satisfied: toolz in /usr/local/lib/python3.10/dist-packages (from altair<6.0,>=4.2.0->gradio) (0.12.0)\n",
            "Requirement already satisfied: filelock in /usr/local/lib/python3.10/dist-packages (from huggingface-hub>=0.14.0->gradio) (3.12.2)\n",
            "Requirement already satisfied: tqdm>=4.42.1 in /usr/local/lib/python3.10/dist-packages (from huggingface-hub>=0.14.0->gradio) (4.66.1)\n",
            "Requirement already satisfied: contourpy>=1.0.1 in /usr/local/lib/python3.10/dist-packages (from matplotlib~=3.0->gradio) (1.1.0)\n",
            "Requirement already satisfied: cycler>=0.10 in /usr/local/lib/python3.10/dist-packages (from matplotlib~=3.0->gradio) (0.11.0)\n",
            "Requirement already satisfied: fonttools>=4.22.0 in /usr/local/lib/python3.10/dist-packages (from matplotlib~=3.0->gradio) (4.42.1)\n",
            "Requirement already satisfied: kiwisolver>=1.0.1 in /usr/local/lib/python3.10/dist-packages (from matplotlib~=3.0->gradio) (1.4.5)\n",
            "Requirement already satisfied: pyparsing>=2.3.1 in /usr/local/lib/python3.10/dist-packages (from matplotlib~=3.0->gradio) (3.1.1)\n",
            "Requirement already satisfied: python-dateutil>=2.7 in /usr/local/lib/python3.10/dist-packages (from matplotlib~=3.0->gradio) (2.8.2)\n",
            "Requirement already satisfied: pytz>=2020.1 in /usr/local/lib/python3.10/dist-packages (from pandas<3.0,>=1.0->gradio) (2023.3.post1)\n",
            "Requirement already satisfied: charset-normalizer<4,>=2 in /usr/local/lib/python3.10/dist-packages (from requests~=2.0->gradio) (3.2.0)\n",
            "Requirement already satisfied: idna<4,>=2.5 in /usr/local/lib/python3.10/dist-packages (from requests~=2.0->gradio) (3.4)\n",
            "Requirement already satisfied: urllib3<3,>=1.21.1 in /usr/local/lib/python3.10/dist-packages (from requests~=2.0->gradio) (2.0.4)\n",
            "Requirement already satisfied: certifi>=2017.4.17 in /usr/local/lib/python3.10/dist-packages (from requests~=2.0->gradio) (2023.7.22)\n",
            "Requirement already satisfied: click>=7.0 in /usr/local/lib/python3.10/dist-packages (from uvicorn>=0.14.0->gradio) (8.1.7)\n",
            "Collecting h11>=0.8 (from uvicorn>=0.14.0->gradio)\n",
            "  Downloading h11-0.14.0-py3-none-any.whl (58 kB)\n",
            "\u001b[2K     \u001b[90m━━━━━━━━━━━━━━━━━━━━━━━━━━━━━━━━━━━━━━━━\u001b[0m \u001b[32m58.3/58.3 kB\u001b[0m \u001b[31m7.3 MB/s\u001b[0m eta \u001b[36m0:00:00\u001b[0m\n",
            "\u001b[?25hRequirement already satisfied: anyio<4.0.0,>=3.7.1 in /usr/local/lib/python3.10/dist-packages (from fastapi->gradio) (3.7.1)\n",
            "Collecting starlette<0.28.0,>=0.27.0 (from fastapi->gradio)\n",
            "  Downloading starlette-0.27.0-py3-none-any.whl (66 kB)\n",
            "\u001b[2K     \u001b[90m━━━━━━━━━━━━━━━━━━━━━━━━━━━━━━━━━━━━━━━━\u001b[0m \u001b[32m67.0/67.0 kB\u001b[0m \u001b[31m9.0 MB/s\u001b[0m eta \u001b[36m0:00:00\u001b[0m\n",
            "\u001b[?25hCollecting httpcore<0.19.0,>=0.18.0 (from httpx->gradio)\n",
            "  Downloading httpcore-0.18.0-py3-none-any.whl (76 kB)\n",
            "\u001b[2K     \u001b[90m━━━━━━━━━━━━━━━━━━━━━━━━━━━━━━━━━━━━━━━━\u001b[0m \u001b[32m76.0/76.0 kB\u001b[0m \u001b[31m9.9 MB/s\u001b[0m eta \u001b[36m0:00:00\u001b[0m\n",
            "\u001b[?25hRequirement already satisfied: sniffio in /usr/local/lib/python3.10/dist-packages (from httpx->gradio) (1.3.0)\n",
            "Requirement already satisfied: exceptiongroup in /usr/local/lib/python3.10/dist-packages (from anyio<4.0.0,>=3.7.1->fastapi->gradio) (1.1.3)\n",
            "Requirement already satisfied: attrs>=22.2.0 in /usr/local/lib/python3.10/dist-packages (from jsonschema>=3.0->altair<6.0,>=4.2.0->gradio) (23.1.0)\n",
            "Requirement already satisfied: jsonschema-specifications>=2023.03.6 in /usr/local/lib/python3.10/dist-packages (from jsonschema>=3.0->altair<6.0,>=4.2.0->gradio) (2023.7.1)\n",
            "Requirement already satisfied: referencing>=0.28.4 in /usr/local/lib/python3.10/dist-packages (from jsonschema>=3.0->altair<6.0,>=4.2.0->gradio) (0.30.2)\n",
            "Requirement already satisfied: rpds-py>=0.7.1 in /usr/local/lib/python3.10/dist-packages (from jsonschema>=3.0->altair<6.0,>=4.2.0->gradio) (0.10.2)\n",
            "Requirement already satisfied: six>=1.5 in /usr/local/lib/python3.10/dist-packages (from python-dateutil>=2.7->matplotlib~=3.0->gradio) (1.16.0)\n",
            "Building wheels for collected packages: ffmpy\n",
            "  Building wheel for ffmpy (setup.py) ... \u001b[?25l\u001b[?25hdone\n",
            "  Created wheel for ffmpy: filename=ffmpy-0.3.1-py3-none-any.whl size=5579 sha256=e004d3c178d3ad6bfa1e0de155e8eb4560be66a48de2c9ecabeb3423ed606b4f\n",
            "  Stored in directory: /root/.cache/pip/wheels/01/a6/d1/1c0828c304a4283b2c1639a09ad86f83d7c487ef34c6b4a1bf\n",
            "Successfully built ffmpy\n",
            "Installing collected packages: pydub, ffmpy, websockets, semantic-version, python-multipart, orjson, h11, aiofiles, uvicorn, starlette, huggingface-hub, httpcore, httpx, fastapi, gradio-client, gradio\n",
            "Successfully installed aiofiles-23.2.1 fastapi-0.103.1 ffmpy-0.3.1 gradio-3.45.0 gradio-client-0.5.2 h11-0.14.0 httpcore-0.18.0 httpx-0.25.0 huggingface-hub-0.17.3 orjson-3.9.7 pydub-0.25.1 python-multipart-0.0.6 semantic-version-2.10.0 starlette-0.27.0 uvicorn-0.23.2 websockets-11.0.3\n"
          ]
        }
      ],
      "source": [
        "!pip install gradio"
      ]
    },
    {
      "cell_type": "code",
      "execution_count": null,
      "metadata": {
        "id": "8jiuyfUfqB7A"
      },
      "outputs": [],
      "source": [
        "import tensorflow as tf\n",
        "from tensorflow import keras\n",
        "from keras.layers import Resizing\n",
        "import numpy as np\n",
        "import gradio as gr\n",
        "model = keras.models.load_model('/content/drive/MyDrive/Extras/Terrain.h5')\n",
        "def recognize(input_img):\n",
        "  # img = image.load_img(input_img, target_size=(229, 229))  # Adjust target_size as needed\n",
        "  img = tf.image.resize(input_img, (299,299))\n",
        "  img_array = image.img_to_array(img)\n",
        "  img_array = np.expand_dims(img_array, axis=0)\n",
        "  img_array = img_array / 255.0\n",
        "\n",
        "  predictions = model.predict(img_array)\n",
        "\n",
        "  # Decode the predictions\n",
        "  class_labels = ['Grass Terrain', 'Marshy Terrain', 'Rocky Terrain', 'Sandy Terrain']  # Replace with your actual class labels\n",
        "  predicted_class_index = np.argmax(predictions)\n",
        "  predicted_class_label = class_labels[predicted_class_index]\n",
        "\n",
        "  return  input_img, predicted_class_label"
      ]
    },
    {
      "cell_type": "code",
      "execution_count": null,
      "metadata": {
        "colab": {
          "base_uri": "https://localhost:8080/",
          "height": 1000
        },
        "id": "irZcb_nTqB2t",
        "outputId": "e30b90d4-da2c-4a23-a5cb-261e1481462e"
      },
      "outputs": [
        {
          "name": "stdout",
          "output_type": "stream",
          "text": [
            "Colab notebook detected. This cell will run indefinitely so that you can see errors and logs. To turn off, set debug=False in launch().\n",
            "Note: opening Chrome Inspector may crash demo inside Colab notebooks.\n",
            "\n",
            "To create a public link, set `share=True` in `launch()`.\n"
          ]
        },
        {
          "data": {
            "application/javascript": [
              "(async (port, path, width, height, cache, element) => {\n",
              "                        if (!google.colab.kernel.accessAllowed && !cache) {\n",
              "                            return;\n",
              "                        }\n",
              "                        element.appendChild(document.createTextNode(''));\n",
              "                        const url = await google.colab.kernel.proxyPort(port, {cache});\n",
              "\n",
              "                        const external_link = document.createElement('div');\n",
              "                        external_link.innerHTML = `\n",
              "                            <div style=\"font-family: monospace; margin-bottom: 0.5rem\">\n",
              "                                Running on <a href=${new URL(path, url).toString()} target=\"_blank\">\n",
              "                                    https://localhost:${port}${path}\n",
              "                                </a>\n",
              "                            </div>\n",
              "                        `;\n",
              "                        element.appendChild(external_link);\n",
              "\n",
              "                        const iframe = document.createElement('iframe');\n",
              "                        iframe.src = new URL(path, url).toString();\n",
              "                        iframe.height = height;\n",
              "                        iframe.allow = \"autoplay; camera; microphone; clipboard-read; clipboard-write;\"\n",
              "                        iframe.width = width;\n",
              "                        iframe.style.border = 0;\n",
              "                        element.appendChild(iframe);\n",
              "                    })(7864, \"/\", \"100%\", 500, false, window.element)"
            ],
            "text/plain": [
              "<IPython.core.display.Javascript object>"
            ]
          },
          "metadata": {},
          "output_type": "display_data"
        },
        {
          "name": "stderr",
          "output_type": "stream",
          "text": [
            "Traceback (most recent call last):\n",
            "  File \"/usr/local/lib/python3.10/dist-packages/gradio/routes.py\", line 516, in predict\n",
            "    output = await route_utils.call_process_api(\n",
            "  File \"/usr/local/lib/python3.10/dist-packages/gradio/route_utils.py\", line 219, in call_process_api\n",
            "    output = await app.get_blocks().process_api(\n",
            "  File \"/usr/local/lib/python3.10/dist-packages/gradio/blocks.py\", line 1437, in process_api\n",
            "    result = await self.call_function(\n",
            "  File \"/usr/local/lib/python3.10/dist-packages/gradio/blocks.py\", line 1109, in call_function\n",
            "    prediction = await anyio.to_thread.run_sync(\n",
            "  File \"/usr/local/lib/python3.10/dist-packages/anyio/to_thread.py\", line 33, in run_sync\n",
            "    return await get_asynclib().run_sync_in_worker_thread(\n",
            "  File \"/usr/local/lib/python3.10/dist-packages/anyio/_backends/_asyncio.py\", line 877, in run_sync_in_worker_thread\n",
            "    return await future\n",
            "  File \"/usr/local/lib/python3.10/dist-packages/anyio/_backends/_asyncio.py\", line 807, in run\n",
            "    result = context.run(func, *args)\n",
            "  File \"/usr/local/lib/python3.10/dist-packages/gradio/utils.py\", line 650, in wrapper\n",
            "    response = f(*args, **kwargs)\n",
            "  File \"<ipython-input-19-b9352d9bfb92>\", line 15, in recognize\n",
            "    predictions = model.predict(img_array)\n",
            "  File \"/usr/local/lib/python3.10/dist-packages/keras/src/utils/traceback_utils.py\", line 70, in error_handler\n",
            "    raise e.with_traceback(filtered_tb) from None\n",
            "  File \"/usr/local/lib/python3.10/dist-packages/tensorflow/python/eager/execute.py\", line 53, in quick_execute\n",
            "    tensors = pywrap_tfe.TFE_Py_Execute(ctx._handle, device_name, op_name,\n",
            "tensorflow.python.framework.errors_impl.InvalidArgumentError: Graph execution error:\n",
            "\n",
            "Detected at node 'model_4/dense_12/MatMul' defined at (most recent call last):\n",
            "    File \"/usr/lib/python3.10/threading.py\", line 973, in _bootstrap\n",
            "      self._bootstrap_inner()\n",
            "    File \"/usr/lib/python3.10/threading.py\", line 1016, in _bootstrap_inner\n",
            "      self.run()\n",
            "    File \"/usr/local/lib/python3.10/dist-packages/anyio/_backends/_asyncio.py\", line 807, in run\n",
            "      result = context.run(func, *args)\n",
            "    File \"/usr/local/lib/python3.10/dist-packages/gradio/utils.py\", line 650, in wrapper\n",
            "      response = f(*args, **kwargs)\n",
            "    File \"<ipython-input-19-b9352d9bfb92>\", line 15, in recognize\n",
            "      predictions = model.predict(img_array)\n",
            "    File \"/usr/local/lib/python3.10/dist-packages/keras/src/utils/traceback_utils.py\", line 65, in error_handler\n",
            "      return fn(*args, **kwargs)\n",
            "    File \"/usr/local/lib/python3.10/dist-packages/keras/src/engine/training.py\", line 2554, in predict\n",
            "      tmp_batch_outputs = self.predict_function(iterator)\n",
            "    File \"/usr/local/lib/python3.10/dist-packages/keras/src/engine/training.py\", line 2341, in predict_function\n",
            "      return step_function(self, iterator)\n",
            "    File \"/usr/local/lib/python3.10/dist-packages/keras/src/engine/training.py\", line 2327, in step_function\n",
            "      outputs = model.distribute_strategy.run(run_step, args=(data,))\n",
            "    File \"/usr/local/lib/python3.10/dist-packages/keras/src/engine/training.py\", line 2315, in run_step\n",
            "      outputs = model.predict_step(data)\n",
            "    File \"/usr/local/lib/python3.10/dist-packages/keras/src/engine/training.py\", line 2283, in predict_step\n",
            "      return self(x, training=False)\n",
            "    File \"/usr/local/lib/python3.10/dist-packages/keras/src/utils/traceback_utils.py\", line 65, in error_handler\n",
            "      return fn(*args, **kwargs)\n",
            "    File \"/usr/local/lib/python3.10/dist-packages/keras/src/engine/training.py\", line 569, in __call__\n",
            "      return super().__call__(*args, **kwargs)\n",
            "    File \"/usr/local/lib/python3.10/dist-packages/keras/src/utils/traceback_utils.py\", line 65, in error_handler\n",
            "      return fn(*args, **kwargs)\n",
            "    File \"/usr/local/lib/python3.10/dist-packages/keras/src/engine/base_layer.py\", line 1150, in __call__\n",
            "      outputs = call_fn(inputs, *args, **kwargs)\n",
            "    File \"/usr/local/lib/python3.10/dist-packages/keras/src/utils/traceback_utils.py\", line 96, in error_handler\n",
            "      return fn(*args, **kwargs)\n",
            "    File \"/usr/local/lib/python3.10/dist-packages/keras/src/engine/functional.py\", line 512, in call\n",
            "      return self._run_internal_graph(inputs, training=training, mask=mask)\n",
            "    File \"/usr/local/lib/python3.10/dist-packages/keras/src/engine/functional.py\", line 669, in _run_internal_graph\n",
            "      outputs = node.layer(*args, **kwargs)\n",
            "    File \"/usr/local/lib/python3.10/dist-packages/keras/src/utils/traceback_utils.py\", line 65, in error_handler\n",
            "      return fn(*args, **kwargs)\n",
            "    File \"/usr/local/lib/python3.10/dist-packages/keras/src/engine/base_layer.py\", line 1150, in __call__\n",
            "      outputs = call_fn(inputs, *args, **kwargs)\n",
            "    File \"/usr/local/lib/python3.10/dist-packages/keras/src/utils/traceback_utils.py\", line 96, in error_handler\n",
            "      return fn(*args, **kwargs)\n",
            "    File \"/usr/local/lib/python3.10/dist-packages/keras/src/layers/core/dense.py\", line 241, in call\n",
            "      outputs = tf.matmul(a=inputs, b=self.kernel)\n",
            "Node: 'model_4/dense_12/MatMul'\n",
            "Matrix size-incompatible: In[0]: [1,204800], In[1]: [100352,256]\n",
            "\t [[{{node model_4/dense_12/MatMul}}]] [Op:__inference_predict_function_18907]\n"
          ]
        }
      ],
      "source": [
        "demo = gr.Interface(fn=recognize, inputs='image', outputs=['image', 'text'])\n",
        "demo.launch(debug=True)"
      ]
    },
    {
      "cell_type": "code",
      "execution_count": null,
      "metadata": {
        "colab": {
          "base_uri": "https://localhost:8080/"
        },
        "id": "ZqEGoN_qqBzO",
        "outputId": "90ea4f97-71f2-4b62-c269-473e0df43ed9"
      },
      "outputs": [
        {
          "name": "stdout",
          "output_type": "stream",
          "text": [
            "1/1 [==============================] - 12s 12s/step\n"
          ]
        }
      ],
      "source": [
        "op = recognize('/content/drive/MyDrive/Extras/sandy terrain.jpg')"
      ]
    },
    {
      "cell_type": "code",
      "execution_count": null,
      "metadata": {
        "colab": {
          "base_uri": "https://localhost:8080/"
        },
        "id": "DNTixb7LqBt3",
        "outputId": "49505388-7b9f-4be6-8cda-51c68385b831"
      },
      "outputs": [
        {
          "output_type": "stream",
          "name": "stdout",
          "text": [
            "Collecting gradio\n",
            "  Downloading gradio-3.50.2-py3-none-any.whl (20.3 MB)\n",
            "\u001b[2K     \u001b[90m━━━━━━━━━━━━━━━━━━━━━━━━━━━━━━━━━━━━━━━━\u001b[0m \u001b[32m20.3/20.3 MB\u001b[0m \u001b[31m67.5 MB/s\u001b[0m eta \u001b[36m0:00:00\u001b[0m\n",
            "\u001b[?25hCollecting aiofiles<24.0,>=22.0 (from gradio)\n",
            "  Downloading aiofiles-23.2.1-py3-none-any.whl (15 kB)\n",
            "Requirement already satisfied: altair<6.0,>=4.2.0 in /usr/local/lib/python3.10/dist-packages (from gradio) (4.2.2)\n",
            "Collecting fastapi (from gradio)\n",
            "  Downloading fastapi-0.104.0-py3-none-any.whl (92 kB)\n",
            "\u001b[2K     \u001b[90m━━━━━━━━━━━━━━━━━━━━━━━━━━━━━━━━━━━━━━━━\u001b[0m \u001b[32m92.9/92.9 kB\u001b[0m \u001b[31m10.5 MB/s\u001b[0m eta \u001b[36m0:00:00\u001b[0m\n",
            "\u001b[?25hCollecting ffmpy (from gradio)\n",
            "  Downloading ffmpy-0.3.1.tar.gz (5.5 kB)\n",
            "  Preparing metadata (setup.py) ... \u001b[?25l\u001b[?25hdone\n",
            "Collecting gradio-client==0.6.1 (from gradio)\n",
            "  Downloading gradio_client-0.6.1-py3-none-any.whl (299 kB)\n",
            "\u001b[2K     \u001b[90m━━━━━━━━━━━━━━━━━━━━━━━━━━━━━━━━━━━━━━━━\u001b[0m \u001b[32m299.2/299.2 kB\u001b[0m \u001b[31m30.5 MB/s\u001b[0m eta \u001b[36m0:00:00\u001b[0m\n",
            "\u001b[?25hCollecting httpx (from gradio)\n",
            "  Downloading httpx-0.25.0-py3-none-any.whl (75 kB)\n",
            "\u001b[2K     \u001b[90m━━━━━━━━━━━━━━━━━━━━━━━━━━━━━━━━━━━━━━━━\u001b[0m \u001b[32m75.7/75.7 kB\u001b[0m \u001b[31m9.2 MB/s\u001b[0m eta \u001b[36m0:00:00\u001b[0m\n",
            "\u001b[?25hCollecting huggingface-hub>=0.14.0 (from gradio)\n",
            "  Downloading huggingface_hub-0.18.0-py3-none-any.whl (301 kB)\n",
            "\u001b[2K     \u001b[90m━━━━━━━━━━━━━━━━━━━━━━━━━━━━━━━━━━━━━━━━\u001b[0m \u001b[32m302.0/302.0 kB\u001b[0m \u001b[31m27.2 MB/s\u001b[0m eta \u001b[36m0:00:00\u001b[0m\n",
            "\u001b[?25hRequirement already satisfied: importlib-resources<7.0,>=1.3 in /usr/local/lib/python3.10/dist-packages (from gradio) (6.1.0)\n",
            "Requirement already satisfied: jinja2<4.0 in /usr/local/lib/python3.10/dist-packages (from gradio) (3.1.2)\n",
            "Requirement already satisfied: markupsafe~=2.0 in /usr/local/lib/python3.10/dist-packages (from gradio) (2.1.3)\n",
            "Requirement already satisfied: matplotlib~=3.0 in /usr/local/lib/python3.10/dist-packages (from gradio) (3.7.1)\n",
            "Requirement already satisfied: numpy~=1.0 in /usr/local/lib/python3.10/dist-packages (from gradio) (1.23.5)\n",
            "Collecting orjson~=3.0 (from gradio)\n",
            "  Downloading orjson-3.9.10-cp310-cp310-manylinux_2_17_x86_64.manylinux2014_x86_64.whl (138 kB)\n",
            "\u001b[2K     \u001b[90m━━━━━━━━━━━━━━━━━━━━━━━━━━━━━━━━━━━━━━━━\u001b[0m \u001b[32m138.7/138.7 kB\u001b[0m \u001b[31m16.5 MB/s\u001b[0m eta \u001b[36m0:00:00\u001b[0m\n",
            "\u001b[?25hRequirement already satisfied: packaging in /usr/local/lib/python3.10/dist-packages (from gradio) (23.2)\n",
            "Requirement already satisfied: pandas<3.0,>=1.0 in /usr/local/lib/python3.10/dist-packages (from gradio) (1.5.3)\n",
            "Requirement already satisfied: pillow<11.0,>=8.0 in /usr/local/lib/python3.10/dist-packages (from gradio) (9.4.0)\n",
            "Requirement already satisfied: pydantic!=1.8,!=1.8.1,!=2.0.0,!=2.0.1,<3.0.0,>=1.7.4 in /usr/local/lib/python3.10/dist-packages (from gradio) (1.10.13)\n",
            "Collecting pydub (from gradio)\n",
            "  Downloading pydub-0.25.1-py2.py3-none-any.whl (32 kB)\n",
            "Collecting python-multipart (from gradio)\n",
            "  Downloading python_multipart-0.0.6-py3-none-any.whl (45 kB)\n",
            "\u001b[2K     \u001b[90m━━━━━━━━━━━━━━━━━━━━━━━━━━━━━━━━━━━━━━━━\u001b[0m \u001b[32m45.7/45.7 kB\u001b[0m \u001b[31m5.4 MB/s\u001b[0m eta \u001b[36m0:00:00\u001b[0m\n",
            "\u001b[?25hRequirement already satisfied: pyyaml<7.0,>=5.0 in /usr/local/lib/python3.10/dist-packages (from gradio) (6.0.1)\n",
            "Requirement already satisfied: requests~=2.0 in /usr/local/lib/python3.10/dist-packages (from gradio) (2.31.0)\n",
            "Collecting semantic-version~=2.0 (from gradio)\n",
            "  Downloading semantic_version-2.10.0-py2.py3-none-any.whl (15 kB)\n",
            "Requirement already satisfied: typing-extensions~=4.0 in /usr/local/lib/python3.10/dist-packages (from gradio) (4.5.0)\n",
            "Collecting uvicorn>=0.14.0 (from gradio)\n",
            "  Downloading uvicorn-0.23.2-py3-none-any.whl (59 kB)\n",
            "\u001b[2K     \u001b[90m━━━━━━━━━━━━━━━━━━━━━━━━━━━━━━━━━━━━━━━━\u001b[0m \u001b[32m59.5/59.5 kB\u001b[0m \u001b[31m6.3 MB/s\u001b[0m eta \u001b[36m0:00:00\u001b[0m\n",
            "\u001b[?25hCollecting websockets<12.0,>=10.0 (from gradio)\n",
            "  Downloading websockets-11.0.3-cp310-cp310-manylinux_2_5_x86_64.manylinux1_x86_64.manylinux_2_17_x86_64.manylinux2014_x86_64.whl (129 kB)\n",
            "\u001b[2K     \u001b[90m━━━━━━━━━━━━━━━━━━━━━━━━━━━━━━━━━━━━━━━━\u001b[0m \u001b[32m129.9/129.9 kB\u001b[0m \u001b[31m13.8 MB/s\u001b[0m eta \u001b[36m0:00:00\u001b[0m\n",
            "\u001b[?25hRequirement already satisfied: fsspec in /usr/local/lib/python3.10/dist-packages (from gradio-client==0.6.1->gradio) (2023.6.0)\n",
            "Requirement already satisfied: entrypoints in /usr/local/lib/python3.10/dist-packages (from altair<6.0,>=4.2.0->gradio) (0.4)\n",
            "Requirement already satisfied: jsonschema>=3.0 in /usr/local/lib/python3.10/dist-packages (from altair<6.0,>=4.2.0->gradio) (4.19.1)\n",
            "Requirement already satisfied: toolz in /usr/local/lib/python3.10/dist-packages (from altair<6.0,>=4.2.0->gradio) (0.12.0)\n",
            "Requirement already satisfied: filelock in /usr/local/lib/python3.10/dist-packages (from huggingface-hub>=0.14.0->gradio) (3.12.4)\n",
            "Requirement already satisfied: tqdm>=4.42.1 in /usr/local/lib/python3.10/dist-packages (from huggingface-hub>=0.14.0->gradio) (4.66.1)\n",
            "Requirement already satisfied: contourpy>=1.0.1 in /usr/local/lib/python3.10/dist-packages (from matplotlib~=3.0->gradio) (1.1.1)\n",
            "Requirement already satisfied: cycler>=0.10 in /usr/local/lib/python3.10/dist-packages (from matplotlib~=3.0->gradio) (0.12.1)\n",
            "Requirement already satisfied: fonttools>=4.22.0 in /usr/local/lib/python3.10/dist-packages (from matplotlib~=3.0->gradio) (4.43.1)\n",
            "Requirement already satisfied: kiwisolver>=1.0.1 in /usr/local/lib/python3.10/dist-packages (from matplotlib~=3.0->gradio) (1.4.5)\n",
            "Requirement already satisfied: pyparsing>=2.3.1 in /usr/local/lib/python3.10/dist-packages (from matplotlib~=3.0->gradio) (3.1.1)\n",
            "Requirement already satisfied: python-dateutil>=2.7 in /usr/local/lib/python3.10/dist-packages (from matplotlib~=3.0->gradio) (2.8.2)\n",
            "Requirement already satisfied: pytz>=2020.1 in /usr/local/lib/python3.10/dist-packages (from pandas<3.0,>=1.0->gradio) (2023.3.post1)\n",
            "Requirement already satisfied: charset-normalizer<4,>=2 in /usr/local/lib/python3.10/dist-packages (from requests~=2.0->gradio) (3.3.1)\n",
            "Requirement already satisfied: idna<4,>=2.5 in /usr/local/lib/python3.10/dist-packages (from requests~=2.0->gradio) (3.4)\n",
            "Requirement already satisfied: urllib3<3,>=1.21.1 in /usr/local/lib/python3.10/dist-packages (from requests~=2.0->gradio) (2.0.7)\n",
            "Requirement already satisfied: certifi>=2017.4.17 in /usr/local/lib/python3.10/dist-packages (from requests~=2.0->gradio) (2023.7.22)\n",
            "Requirement already satisfied: click>=7.0 in /usr/local/lib/python3.10/dist-packages (from uvicorn>=0.14.0->gradio) (8.1.7)\n",
            "Collecting h11>=0.8 (from uvicorn>=0.14.0->gradio)\n",
            "  Downloading h11-0.14.0-py3-none-any.whl (58 kB)\n",
            "\u001b[2K     \u001b[90m━━━━━━━━━━━━━━━━━━━━━━━━━━━━━━━━━━━━━━━━\u001b[0m \u001b[32m58.3/58.3 kB\u001b[0m \u001b[31m6.7 MB/s\u001b[0m eta \u001b[36m0:00:00\u001b[0m\n",
            "\u001b[?25hRequirement already satisfied: anyio<4.0.0,>=3.7.1 in /usr/local/lib/python3.10/dist-packages (from fastapi->gradio) (3.7.1)\n",
            "Collecting starlette<0.28.0,>=0.27.0 (from fastapi->gradio)\n",
            "  Downloading starlette-0.27.0-py3-none-any.whl (66 kB)\n",
            "\u001b[2K     \u001b[90m━━━━━━━━━━━━━━━━━━━━━━━━━━━━━━━━━━━━━━━━\u001b[0m \u001b[32m67.0/67.0 kB\u001b[0m \u001b[31m8.5 MB/s\u001b[0m eta \u001b[36m0:00:00\u001b[0m\n",
            "\u001b[?25hCollecting typing-extensions~=4.0 (from gradio)\n",
            "  Downloading typing_extensions-4.8.0-py3-none-any.whl (31 kB)\n",
            "Collecting httpcore<0.19.0,>=0.18.0 (from httpx->gradio)\n",
            "  Downloading httpcore-0.18.0-py3-none-any.whl (76 kB)\n",
            "\u001b[2K     \u001b[90m━━━━━━━━━━━━━━━━━━━━━━━━━━━━━━━━━━━━━━━━\u001b[0m \u001b[32m76.0/76.0 kB\u001b[0m \u001b[31m8.8 MB/s\u001b[0m eta \u001b[36m0:00:00\u001b[0m\n",
            "\u001b[?25hRequirement already satisfied: sniffio in /usr/local/lib/python3.10/dist-packages (from httpx->gradio) (1.3.0)\n",
            "Requirement already satisfied: exceptiongroup in /usr/local/lib/python3.10/dist-packages (from anyio<4.0.0,>=3.7.1->fastapi->gradio) (1.1.3)\n",
            "Requirement already satisfied: attrs>=22.2.0 in /usr/local/lib/python3.10/dist-packages (from jsonschema>=3.0->altair<6.0,>=4.2.0->gradio) (23.1.0)\n",
            "Requirement already satisfied: jsonschema-specifications>=2023.03.6 in /usr/local/lib/python3.10/dist-packages (from jsonschema>=3.0->altair<6.0,>=4.2.0->gradio) (2023.7.1)\n",
            "Requirement already satisfied: referencing>=0.28.4 in /usr/local/lib/python3.10/dist-packages (from jsonschema>=3.0->altair<6.0,>=4.2.0->gradio) (0.30.2)\n",
            "Requirement already satisfied: rpds-py>=0.7.1 in /usr/local/lib/python3.10/dist-packages (from jsonschema>=3.0->altair<6.0,>=4.2.0->gradio) (0.10.6)\n",
            "Requirement already satisfied: six>=1.5 in /usr/local/lib/python3.10/dist-packages (from python-dateutil>=2.7->matplotlib~=3.0->gradio) (1.16.0)\n",
            "Building wheels for collected packages: ffmpy\n",
            "  Building wheel for ffmpy (setup.py) ... \u001b[?25l\u001b[?25hdone\n",
            "  Created wheel for ffmpy: filename=ffmpy-0.3.1-py3-none-any.whl size=5579 sha256=03d3c931cae7f81db1be7faf6ea83e9b5d5d8f6269b32e6092780948e080a237\n",
            "  Stored in directory: /root/.cache/pip/wheels/01/a6/d1/1c0828c304a4283b2c1639a09ad86f83d7c487ef34c6b4a1bf\n",
            "Successfully built ffmpy\n",
            "Installing collected packages: pydub, ffmpy, websockets, typing-extensions, semantic-version, python-multipart, orjson, h11, aiofiles, uvicorn, starlette, huggingface-hub, httpcore, httpx, fastapi, gradio-client, gradio\n",
            "  Attempting uninstall: typing-extensions\n",
            "    Found existing installation: typing_extensions 4.5.0\n",
            "    Uninstalling typing_extensions-4.5.0:\n",
            "      Successfully uninstalled typing_extensions-4.5.0\n",
            "\u001b[31mERROR: pip's dependency resolver does not currently take into account all the packages that are installed. This behaviour is the source of the following dependency conflicts.\n",
            "lida 0.0.10 requires kaleido, which is not installed.\n",
            "tensorflow-probability 0.22.0 requires typing-extensions<4.6.0, but you have typing-extensions 4.8.0 which is incompatible.\u001b[0m\u001b[31m\n",
            "\u001b[0mSuccessfully installed aiofiles-23.2.1 fastapi-0.104.0 ffmpy-0.3.1 gradio-3.50.2 gradio-client-0.6.1 h11-0.14.0 httpcore-0.18.0 httpx-0.25.0 huggingface-hub-0.18.0 orjson-3.9.10 pydub-0.25.1 python-multipart-0.0.6 semantic-version-2.10.0 starlette-0.27.0 typing-extensions-4.8.0 uvicorn-0.23.2 websockets-11.0.3\n"
          ]
        }
      ],
      "source": [
        "!pip install gradio"
      ]
    },
    {
      "cell_type": "code",
      "execution_count": null,
      "metadata": {
        "id": "Pg4Z2CjZeDIW"
      },
      "outputs": [],
      "source": [
        "sandy_img = '/content/drive/MyDrive/Extras/sandy terrain.jpg'\n",
        "marshy_img = '/content/drive/MyDrive/Extras/Marshy Terrain.jpg'\n",
        "rocky_img = '/content/drive/MyDrive/Extras/rocky terrain.jpg'\n",
        "grass_img = '/content/drive/MyDrive/Extras/grass terrain.jpg'"
      ]
    },
    {
      "cell_type": "code",
      "execution_count": null,
      "metadata": {
        "colab": {
          "base_uri": "https://localhost:8080/",
          "height": 638
        },
        "id": "52NiVyhaqBqe",
        "outputId": "bf70f92e-f375-4eb6-a5da-5f4bb49f5381"
      },
      "outputs": [
        {
          "output_type": "stream",
          "name": "stdout",
          "text": [
            "Colab notebook detected. This cell will run indefinitely so that you can see errors and logs. To turn off, set debug=False in launch().\n",
            "Note: opening Chrome Inspector may crash demo inside Colab notebooks.\n",
            "\n",
            "To create a public link, set `share=True` in `launch()`.\n"
          ]
        },
        {
          "output_type": "display_data",
          "data": {
            "text/plain": [
              "<IPython.core.display.Javascript object>"
            ],
            "application/javascript": [
              "(async (port, path, width, height, cache, element) => {\n",
              "                        if (!google.colab.kernel.accessAllowed && !cache) {\n",
              "                            return;\n",
              "                        }\n",
              "                        element.appendChild(document.createTextNode(''));\n",
              "                        const url = await google.colab.kernel.proxyPort(port, {cache});\n",
              "\n",
              "                        const external_link = document.createElement('div');\n",
              "                        external_link.innerHTML = `\n",
              "                            <div style=\"font-family: monospace; margin-bottom: 0.5rem\">\n",
              "                                Running on <a href=${new URL(path, url).toString()} target=\"_blank\">\n",
              "                                    https://localhost:${port}${path}\n",
              "                                </a>\n",
              "                            </div>\n",
              "                        `;\n",
              "                        element.appendChild(external_link);\n",
              "\n",
              "                        const iframe = document.createElement('iframe');\n",
              "                        iframe.src = new URL(path, url).toString();\n",
              "                        iframe.height = height;\n",
              "                        iframe.allow = \"autoplay; camera; microphone; clipboard-read; clipboard-write;\"\n",
              "                        iframe.width = width;\n",
              "                        iframe.style.border = 0;\n",
              "                        element.appendChild(iframe);\n",
              "                    })(7860, \"/\", \"100%\", 500, false, window.element)"
            ]
          },
          "metadata": {}
        },
        {
          "output_type": "stream",
          "name": "stdout",
          "text": [
            "Keyboard interruption in main thread... closing server.\n"
          ]
        },
        {
          "output_type": "execute_result",
          "data": {
            "text/plain": []
          },
          "metadata": {},
          "execution_count": 4
        }
      ],
      "source": [
        "import tensorflow as tf\n",
        "from tensorflow import keras\n",
        "from keras.preprocessing import image\n",
        "import numpy as np\n",
        "import gradio as gr\n",
        "import numpy as np\n",
        "import cv2\n",
        "\n",
        "model = keras.models.load_model('/content/drive/MyDrive/Extras/Terrain.h5')\n",
        "\n",
        "def recognize(input_img):\n",
        "\n",
        "    img = tf.image.resize(input_img, (229, 229))\n",
        "    img_array = image.img_to_array(img)\n",
        "    img_array = np.expand_dims(img_array, axis=0)\n",
        "    img_array = img_array / 255.0\n",
        "\n",
        "    predictions = model.predict(img_array)\n",
        "\n",
        "    class_labels = ['Grass Terrain', 'Marshy Terrain', 'Rocky Terrain', 'Sandy Terrain']\n",
        "    predicted_class_index = np.argmax(predictions)\n",
        "    predicted_class_label = class_labels[predicted_class_index]\n",
        "\n",
        "    img = convert_to_grayscale(input_img)\n",
        "    # img = cv2.cvtColor(img_array, cv2.COLOR_RGB2GRAY)\n",
        "    # # img = cv2.imread(input_img, cv2.IMREAD_GRAYSCALE)\n",
        "\n",
        "    gx = cv2.Sobel(img, cv2.CV_64F, 1, 0, ksize=3)\n",
        "    gy = cv2.Sobel(img, cv2.CV_64F, 0, 1, ksize=3)\n",
        "    grad = np.sqrt(gx**2 + gy**2)\n",
        "\n",
        "    roughness = np.std(grad)\n",
        "\n",
        "    # # # print('Surface roughness:', roughness)\n",
        "\n",
        "    return img_array[0], predicted_class_label, roughness\n",
        "\n",
        "examples = [sandy_img, rocky_img, grass_img, marshy_img]\n",
        "demo = gr.Interface(fn=recognize, inputs='image', outputs=['image', 'text', 'text'], examples=examples)\n",
        "\n",
        "demo.launch(debug=True, share=False)"
      ]
    },
    {
      "cell_type": "code",
      "execution_count": null,
      "metadata": {
        "colab": {
          "base_uri": "https://localhost:8080/"
        },
        "id": "VQnCmG_L9VQX",
        "outputId": "fff365cb-8505-416d-9512-1063829ad720"
      },
      "outputs": [
        {
          "name": "stdout",
          "output_type": "stream",
          "text": [
            "Surface roughness: <class 'numpy.float64'>\n"
          ]
        }
      ],
      "source": [
        "import numpy as np\n",
        "import cv2\n",
        "\n",
        "# Load the image\n",
        "img = cv2.imread(marshy_img, cv2.IMREAD_GRAYSCALE)\n",
        "\n",
        "# Calculate the gradient\n",
        "gx = cv2.Sobel(img, cv2.CV_64F, 1, 0, ksize=3)\n",
        "gy = cv2.Sobel(img, cv2.CV_64F, 0, 1, ksize=3)\n",
        "grad = np.sqrt(gx**2 + gy**2)\n",
        "\n",
        "# Calculate the standard deviation of the gradient\n",
        "roughness = np.std(grad)\n",
        "\n",
        "print('Surface roughness:', type(roughness))"
      ]
    },
    {
      "cell_type": "code",
      "execution_count": null,
      "metadata": {
        "colab": {
          "base_uri": "https://localhost:8080/",
          "height": 321
        },
        "id": "1WxkalMf9VAy",
        "outputId": "23893ed0-5e0f-49c8-c2d1-c9dec087bd1a"
      },
      "outputs": [
        {
          "ename": "ValueError",
          "evalue": "ignored",
          "output_type": "error",
          "traceback": [
            "\u001b[0;31m---------------------------------------------------------------------------\u001b[0m",
            "\u001b[0;31mValueError\u001b[0m                                Traceback (most recent call last)",
            "\u001b[0;32m<ipython-input-18-c4eb335d18c2>\u001b[0m in \u001b[0;36m<cell line: 1>\u001b[0;34m()\u001b[0m\n\u001b[0;32m----> 1\u001b[0;31m \u001b[0mop\u001b[0m \u001b[0;34m=\u001b[0m \u001b[0mrecognize\u001b[0m\u001b[0;34m(\u001b[0m\u001b[0mrocky_img\u001b[0m\u001b[0;34m)\u001b[0m\u001b[0;34m\u001b[0m\u001b[0;34m\u001b[0m\u001b[0m\n\u001b[0m",
            "\u001b[0;32m<ipython-input-15-7038e5007e87>\u001b[0m in \u001b[0;36mrecognize\u001b[0;34m(input_img)\u001b[0m\n\u001b[1;32m     11\u001b[0m \u001b[0;32mdef\u001b[0m \u001b[0mrecognize\u001b[0m\u001b[0;34m(\u001b[0m\u001b[0minput_img\u001b[0m\u001b[0;34m)\u001b[0m\u001b[0;34m:\u001b[0m\u001b[0;34m\u001b[0m\u001b[0;34m\u001b[0m\u001b[0m\n\u001b[1;32m     12\u001b[0m \u001b[0;34m\u001b[0m\u001b[0m\n\u001b[0;32m---> 13\u001b[0;31m     \u001b[0mimg\u001b[0m \u001b[0;34m=\u001b[0m \u001b[0mtf\u001b[0m\u001b[0;34m.\u001b[0m\u001b[0mimage\u001b[0m\u001b[0;34m.\u001b[0m\u001b[0mresize\u001b[0m\u001b[0;34m(\u001b[0m\u001b[0minput_img\u001b[0m\u001b[0;34m,\u001b[0m \u001b[0;34m(\u001b[0m\u001b[0;36m229\u001b[0m\u001b[0;34m,\u001b[0m \u001b[0;36m229\u001b[0m\u001b[0;34m)\u001b[0m\u001b[0;34m)\u001b[0m\u001b[0;34m\u001b[0m\u001b[0;34m\u001b[0m\u001b[0m\n\u001b[0m\u001b[1;32m     14\u001b[0m     \u001b[0mimg_array\u001b[0m \u001b[0;34m=\u001b[0m \u001b[0mimage\u001b[0m\u001b[0;34m.\u001b[0m\u001b[0mimg_to_array\u001b[0m\u001b[0;34m(\u001b[0m\u001b[0mimg\u001b[0m\u001b[0;34m)\u001b[0m\u001b[0;34m\u001b[0m\u001b[0;34m\u001b[0m\u001b[0m\n\u001b[1;32m     15\u001b[0m     \u001b[0mimg_array\u001b[0m \u001b[0;34m=\u001b[0m \u001b[0mnp\u001b[0m\u001b[0;34m.\u001b[0m\u001b[0mexpand_dims\u001b[0m\u001b[0;34m(\u001b[0m\u001b[0mimg_array\u001b[0m\u001b[0;34m,\u001b[0m \u001b[0maxis\u001b[0m\u001b[0;34m=\u001b[0m\u001b[0;36m0\u001b[0m\u001b[0;34m)\u001b[0m\u001b[0;34m\u001b[0m\u001b[0;34m\u001b[0m\u001b[0m\n",
            "\u001b[0;32m/usr/local/lib/python3.10/dist-packages/tensorflow/python/util/traceback_utils.py\u001b[0m in \u001b[0;36merror_handler\u001b[0;34m(*args, **kwargs)\u001b[0m\n\u001b[1;32m    151\u001b[0m     \u001b[0;32mexcept\u001b[0m \u001b[0mException\u001b[0m \u001b[0;32mas\u001b[0m \u001b[0me\u001b[0m\u001b[0;34m:\u001b[0m\u001b[0;34m\u001b[0m\u001b[0;34m\u001b[0m\u001b[0m\n\u001b[1;32m    152\u001b[0m       \u001b[0mfiltered_tb\u001b[0m \u001b[0;34m=\u001b[0m \u001b[0m_process_traceback_frames\u001b[0m\u001b[0;34m(\u001b[0m\u001b[0me\u001b[0m\u001b[0;34m.\u001b[0m\u001b[0m__traceback__\u001b[0m\u001b[0;34m)\u001b[0m\u001b[0;34m\u001b[0m\u001b[0;34m\u001b[0m\u001b[0m\n\u001b[0;32m--> 153\u001b[0;31m       \u001b[0;32mraise\u001b[0m \u001b[0me\u001b[0m\u001b[0;34m.\u001b[0m\u001b[0mwith_traceback\u001b[0m\u001b[0;34m(\u001b[0m\u001b[0mfiltered_tb\u001b[0m\u001b[0;34m)\u001b[0m \u001b[0;32mfrom\u001b[0m \u001b[0;32mNone\u001b[0m\u001b[0;34m\u001b[0m\u001b[0;34m\u001b[0m\u001b[0m\n\u001b[0m\u001b[1;32m    154\u001b[0m     \u001b[0;32mfinally\u001b[0m\u001b[0;34m:\u001b[0m\u001b[0;34m\u001b[0m\u001b[0;34m\u001b[0m\u001b[0m\n\u001b[1;32m    155\u001b[0m       \u001b[0;32mdel\u001b[0m \u001b[0mfiltered_tb\u001b[0m\u001b[0;34m\u001b[0m\u001b[0;34m\u001b[0m\u001b[0m\n",
            "\u001b[0;32m/usr/local/lib/python3.10/dist-packages/tensorflow/python/ops/image_ops_impl.py\u001b[0m in \u001b[0;36m_resize_images_common\u001b[0;34m(images, resizer_fn, size, preserve_aspect_ratio, name, skip_resize_if_same)\u001b[0m\n\u001b[1;32m   1457\u001b[0m       \u001b[0mimages\u001b[0m \u001b[0;34m=\u001b[0m \u001b[0marray_ops\u001b[0m\u001b[0;34m.\u001b[0m\u001b[0mexpand_dims\u001b[0m\u001b[0;34m(\u001b[0m\u001b[0mimages\u001b[0m\u001b[0;34m,\u001b[0m \u001b[0;36m0\u001b[0m\u001b[0;34m)\u001b[0m\u001b[0;34m\u001b[0m\u001b[0;34m\u001b[0m\u001b[0m\n\u001b[1;32m   1458\u001b[0m     \u001b[0;32melif\u001b[0m \u001b[0mimages\u001b[0m\u001b[0;34m.\u001b[0m\u001b[0mget_shape\u001b[0m\u001b[0;34m(\u001b[0m\u001b[0;34m)\u001b[0m\u001b[0;34m.\u001b[0m\u001b[0mndims\u001b[0m \u001b[0;34m!=\u001b[0m \u001b[0;36m4\u001b[0m\u001b[0;34m:\u001b[0m\u001b[0;34m\u001b[0m\u001b[0;34m\u001b[0m\u001b[0m\n\u001b[0;32m-> 1459\u001b[0;31m       \u001b[0;32mraise\u001b[0m \u001b[0mValueError\u001b[0m\u001b[0;34m(\u001b[0m\u001b[0;34m'\\'images\\' must have either 3 or 4 dimensions.'\u001b[0m\u001b[0;34m)\u001b[0m\u001b[0;34m\u001b[0m\u001b[0;34m\u001b[0m\u001b[0m\n\u001b[0m\u001b[1;32m   1460\u001b[0m \u001b[0;34m\u001b[0m\u001b[0m\n\u001b[1;32m   1461\u001b[0m     \u001b[0m_\u001b[0m\u001b[0;34m,\u001b[0m \u001b[0mheight\u001b[0m\u001b[0;34m,\u001b[0m \u001b[0mwidth\u001b[0m\u001b[0;34m,\u001b[0m \u001b[0m_\u001b[0m \u001b[0;34m=\u001b[0m \u001b[0mimages\u001b[0m\u001b[0;34m.\u001b[0m\u001b[0mget_shape\u001b[0m\u001b[0;34m(\u001b[0m\u001b[0;34m)\u001b[0m\u001b[0;34m.\u001b[0m\u001b[0mas_list\u001b[0m\u001b[0;34m(\u001b[0m\u001b[0;34m)\u001b[0m\u001b[0;34m\u001b[0m\u001b[0;34m\u001b[0m\u001b[0m\n",
            "\u001b[0;31mValueError\u001b[0m: 'images' must have either 3 or 4 dimensions."
          ]
        }
      ],
      "source": [
        "op = recognize(rocky_img)"
      ]
    },
    {
      "cell_type": "code",
      "execution_count": null,
      "metadata": {
        "colab": {
          "base_uri": "https://localhost:8080/",
          "height": 175
        },
        "id": "4UEN60_Z9U0q",
        "outputId": "f492075b-b0fe-495d-cd1f-276088e7b09e"
      },
      "outputs": [
        {
          "ename": "AttributeError",
          "evalue": "ignored",
          "output_type": "error",
          "traceback": [
            "\u001b[0;31m---------------------------------------------------------------------------\u001b[0m",
            "\u001b[0;31mAttributeError\u001b[0m                            Traceback (most recent call last)",
            "\u001b[0;32m<ipython-input-10-ce07f28f0f43>\u001b[0m in \u001b[0;36m<cell line: 1>\u001b[0;34m()\u001b[0m\n\u001b[0;32m----> 1\u001b[0;31m \u001b[0mrocky_img\u001b[0m\u001b[0;34m.\u001b[0m\u001b[0mshape\u001b[0m\u001b[0;34m\u001b[0m\u001b[0;34m\u001b[0m\u001b[0m\n\u001b[0m",
            "\u001b[0;31mAttributeError\u001b[0m: 'str' object has no attribute 'shape'"
          ]
        }
      ],
      "source": [
        "rocky_img.shape"
      ]
    },
    {
      "cell_type": "code",
      "execution_count": null,
      "metadata": {
        "id": "ivWL1v6mUeNR"
      },
      "outputs": [],
      "source": [
        "import cv2\n",
        "import numpy as np\n",
        "\n",
        "def convert_to_grayscale(image):\n",
        "    try:\n",
        "        # Convert the input image to a NumPy array\n",
        "        image_array = np.asarray(image)\n",
        "\n",
        "        # Ensure the image has three channels (BGR)\n",
        "        if len(image_array.shape) == 2:\n",
        "            # If it's already grayscale, return it as is\n",
        "            return image_array\n",
        "        if len(image_array.shape) == 3 and image_array.shape[2] == 3:\n",
        "            # If it's a three-channel image (BGR), convert it to grayscale\n",
        "            gray_image = cv2.cvtColor(image_array, cv2.COLOR_BGR2GRAY)\n",
        "            return gray_image\n",
        "        else:\n",
        "            print(\"Unsupported image format. Input image should be either grayscale or three-channel (BGR).\")\n",
        "            return None\n",
        "    except Exception as e:\n",
        "        print(\"Error:\", str(e))\n",
        "        return None\n",
        "\n",
        "# Example usage:\n",
        "# You can pass an image to the function like this:\n",
        "# image = cv2.imread('your_image.jpg')\n",
        "# gray_image = convert_to_grayscale(image)\n",
        "# if gray_image is not None:\n",
        "#     cv2.imshow('Grayscale Image', gray_image)\n",
        "#     cv2.waitKey(0)\n",
        "#     cv2.destroyAllWindows()\n"
      ]
    },
    {
      "cell_type": "code",
      "execution_count": null,
      "metadata": {
        "id": "31TDDw0NUeKk"
      },
      "outputs": [],
      "source": []
    },
    {
      "cell_type": "code",
      "execution_count": null,
      "metadata": {
        "colab": {
          "base_uri": "https://localhost:8080/"
        },
        "id": "dkn9n0GnS1_e",
        "outputId": "3a976de4-bdc4-4c30-bb41-b09254b02ecf"
      },
      "outputs": [
        {
          "name": "stdout",
          "output_type": "stream",
          "text": [
            "Downloading data from https://storage.googleapis.com/tensorflow/keras-applications/inception_v3/inception_v3_weights_tf_dim_ordering_tf_kernels_notop.h5\n",
            "87910968/87910968 [==============================] - 5s 0us/step\n"
          ]
        }
      ],
      "source": [
        "from keras.applications import InceptionV3\n",
        "input = Input(shape=(224,224,3))\n",
        "model = InceptionV3(include_top=False, weights='imagenet', input_tensor=input)\n",
        "model.trainable=False"
      ]
    },
    {
      "cell_type": "code",
      "execution_count": null,
      "metadata": {
        "id": "bB2ZA5ppS18H"
      },
      "outputs": [],
      "source": [
        "output = model.output\n",
        "x = Flatten()(output)\n",
        "x = Dense(units = 256, activation='relu')(x)\n",
        "x = Dropout(0.3)(x)\n",
        "x = Dense(units = 125, activation='relu')(x)\n",
        "x = Dropout(0.3)(x)\n",
        "x = Dense(units = 4, activation='softmax')(x)\n",
        "final_model = Model(inputs=input, outputs=x)"
      ]
    },
    {
      "cell_type": "code",
      "execution_count": null,
      "metadata": {
        "id": "WCtqVVhATvSr"
      },
      "outputs": [],
      "source": [
        "final_model.compile(loss='categorical_crossentropy', optimizer=keras.optimizers.Adam(learning_rate=0.0001), metrics=['accuracy'])"
      ]
    },
    {
      "cell_type": "code",
      "execution_count": null,
      "metadata": {
        "colab": {
          "base_uri": "https://localhost:8080/"
        },
        "id": "NAddNDieTydo",
        "outputId": "b258c2de-ac5d-43c1-c07a-f33d0031dd9b"
      },
      "outputs": [
        {
          "name": "stdout",
          "output_type": "stream",
          "text": [
            "Epoch 1/200\n",
            "8/8 [==============================] - 188s 21s/step - loss: 1.5575 - accuracy: 0.4585 - val_loss: 1.3437 - val_accuracy: 0.5818\n",
            "Epoch 2/200\n",
            "8/8 [==============================] - 1s 137ms/step - loss: 0.9897 - accuracy: 0.6725 - val_loss: 0.8778 - val_accuracy: 0.6727\n",
            "Epoch 3/200\n",
            "8/8 [==============================] - 1s 142ms/step - loss: 0.5779 - accuracy: 0.7904 - val_loss: 0.8788 - val_accuracy: 0.6909\n",
            "Epoch 4/200\n",
            "8/8 [==============================] - 1s 137ms/step - loss: 0.3963 - accuracy: 0.8384 - val_loss: 1.0466 - val_accuracy: 0.6727\n",
            "Epoch 5/200\n",
            "8/8 [==============================] - 1s 136ms/step - loss: 0.2451 - accuracy: 0.9170 - val_loss: 0.9117 - val_accuracy: 0.6545\n",
            "Epoch 6/200\n",
            "8/8 [==============================] - 1s 142ms/step - loss: 0.2447 - accuracy: 0.9214 - val_loss: 0.9626 - val_accuracy: 0.7273\n",
            "Epoch 7/200\n",
            "8/8 [==============================] - 1s 143ms/step - loss: 0.1747 - accuracy: 0.9214 - val_loss: 0.9210 - val_accuracy: 0.7091\n",
            "Epoch 8/200\n",
            "8/8 [==============================] - 1s 155ms/step - loss: 0.1401 - accuracy: 0.9476 - val_loss: 0.9908 - val_accuracy: 0.7273\n",
            "Epoch 9/200\n",
            "8/8 [==============================] - 1s 171ms/step - loss: 0.1041 - accuracy: 0.9651 - val_loss: 1.0043 - val_accuracy: 0.6727\n",
            "Epoch 10/200\n",
            "8/8 [==============================] - 1s 143ms/step - loss: 0.1176 - accuracy: 0.9738 - val_loss: 0.8852 - val_accuracy: 0.7273\n",
            "Epoch 11/200\n",
            "8/8 [==============================] - 1s 136ms/step - loss: 0.0650 - accuracy: 0.9913 - val_loss: 0.8399 - val_accuracy: 0.7455\n",
            "Epoch 12/200\n",
            "8/8 [==============================] - 1s 146ms/step - loss: 0.0538 - accuracy: 0.9869 - val_loss: 0.8892 - val_accuracy: 0.7091\n",
            "Epoch 13/200\n",
            "8/8 [==============================] - 1s 133ms/step - loss: 0.0427 - accuracy: 0.9956 - val_loss: 0.9307 - val_accuracy: 0.7273\n",
            "Epoch 14/200\n",
            "8/8 [==============================] - 1s 139ms/step - loss: 0.0773 - accuracy: 0.9694 - val_loss: 0.9307 - val_accuracy: 0.7455\n",
            "Epoch 15/200\n",
            "8/8 [==============================] - 1s 140ms/step - loss: 0.0542 - accuracy: 0.9869 - val_loss: 0.9290 - val_accuracy: 0.7273\n",
            "Epoch 16/200\n",
            "8/8 [==============================] - 1s 141ms/step - loss: 0.0396 - accuracy: 0.9956 - val_loss: 1.0345 - val_accuracy: 0.7273\n",
            "Epoch 17/200\n",
            "8/8 [==============================] - 1s 143ms/step - loss: 0.0528 - accuracy: 0.9738 - val_loss: 0.9886 - val_accuracy: 0.7091\n",
            "Epoch 18/200\n",
            "8/8 [==============================] - 1s 165ms/step - loss: 0.0261 - accuracy: 0.9956 - val_loss: 1.0193 - val_accuracy: 0.7091\n",
            "Epoch 19/200\n",
            "8/8 [==============================] - 1s 165ms/step - loss: 0.0485 - accuracy: 0.9782 - val_loss: 0.9978 - val_accuracy: 0.7455\n",
            "Epoch 20/200\n",
            "8/8 [==============================] - 1s 169ms/step - loss: 0.0685 - accuracy: 0.9738 - val_loss: 1.0373 - val_accuracy: 0.7455\n",
            "Epoch 21/200\n",
            "8/8 [==============================] - 1s 158ms/step - loss: 0.0788 - accuracy: 0.9782 - val_loss: 1.0612 - val_accuracy: 0.6909\n",
            "Epoch 22/200\n",
            "8/8 [==============================] - 1s 142ms/step - loss: 0.0674 - accuracy: 0.9738 - val_loss: 0.9673 - val_accuracy: 0.7273\n",
            "Epoch 23/200\n",
            "8/8 [==============================] - 1s 141ms/step - loss: 0.0476 - accuracy: 0.9869 - val_loss: 1.0911 - val_accuracy: 0.7273\n",
            "Epoch 24/200\n",
            "8/8 [==============================] - 1s 140ms/step - loss: 0.0509 - accuracy: 0.9825 - val_loss: 1.0795 - val_accuracy: 0.7091\n",
            "Epoch 25/200\n",
            "8/8 [==============================] - 1s 140ms/step - loss: 0.0569 - accuracy: 0.9825 - val_loss: 1.0870 - val_accuracy: 0.7636\n",
            "Epoch 26/200\n",
            "8/8 [==============================] - 1s 138ms/step - loss: 0.0533 - accuracy: 0.9825 - val_loss: 0.9060 - val_accuracy: 0.7091\n",
            "Epoch 27/200\n",
            "8/8 [==============================] - 1s 141ms/step - loss: 0.0449 - accuracy: 0.9825 - val_loss: 1.0178 - val_accuracy: 0.7091\n",
            "Epoch 28/200\n",
            "8/8 [==============================] - 1s 149ms/step - loss: 0.0438 - accuracy: 0.9913 - val_loss: 0.8308 - val_accuracy: 0.7273\n",
            "Epoch 29/200\n",
            "8/8 [==============================] - 1s 177ms/step - loss: 0.0225 - accuracy: 0.9956 - val_loss: 0.9586 - val_accuracy: 0.7636\n",
            "Epoch 30/200\n",
            "8/8 [==============================] - 1s 174ms/step - loss: 0.0184 - accuracy: 1.0000 - val_loss: 1.0405 - val_accuracy: 0.7455\n",
            "Epoch 31/200\n",
            "8/8 [==============================] - 1s 161ms/step - loss: 0.0132 - accuracy: 0.9956 - val_loss: 1.1456 - val_accuracy: 0.7273\n",
            "Epoch 32/200\n",
            "8/8 [==============================] - 1s 136ms/step - loss: 0.0356 - accuracy: 0.9869 - val_loss: 1.0412 - val_accuracy: 0.7455\n",
            "Epoch 33/200\n",
            "8/8 [==============================] - 1s 168ms/step - loss: 0.0126 - accuracy: 0.9956 - val_loss: 1.0479 - val_accuracy: 0.6909\n",
            "Epoch 34/200\n",
            "8/8 [==============================] - 1s 133ms/step - loss: 0.0102 - accuracy: 1.0000 - val_loss: 1.1143 - val_accuracy: 0.7091\n",
            "Epoch 35/200\n",
            "8/8 [==============================] - 1s 138ms/step - loss: 0.0232 - accuracy: 0.9956 - val_loss: 1.1463 - val_accuracy: 0.6909\n",
            "Epoch 36/200\n",
            "8/8 [==============================] - 1s 141ms/step - loss: 0.0202 - accuracy: 0.9956 - val_loss: 1.0950 - val_accuracy: 0.6909\n",
            "Epoch 37/200\n",
            "8/8 [==============================] - 1s 142ms/step - loss: 0.0238 - accuracy: 0.9913 - val_loss: 1.0430 - val_accuracy: 0.8182\n",
            "Epoch 38/200\n",
            "8/8 [==============================] - 1s 132ms/step - loss: 0.0318 - accuracy: 0.9869 - val_loss: 1.0009 - val_accuracy: 0.7455\n",
            "Epoch 39/200\n",
            "8/8 [==============================] - 1s 142ms/step - loss: 0.0153 - accuracy: 0.9956 - val_loss: 1.0722 - val_accuracy: 0.7091\n",
            "Epoch 40/200\n",
            "8/8 [==============================] - 1s 176ms/step - loss: 0.0243 - accuracy: 0.9913 - val_loss: 0.9470 - val_accuracy: 0.7636\n",
            "Epoch 41/200\n",
            "8/8 [==============================] - 1s 162ms/step - loss: 0.0177 - accuracy: 0.9869 - val_loss: 0.9240 - val_accuracy: 0.7636\n",
            "Epoch 42/200\n",
            "8/8 [==============================] - 1s 134ms/step - loss: 0.0200 - accuracy: 0.9956 - val_loss: 0.9527 - val_accuracy: 0.7455\n",
            "Epoch 43/200\n",
            "8/8 [==============================] - 1s 135ms/step - loss: 0.0149 - accuracy: 0.9956 - val_loss: 0.9009 - val_accuracy: 0.7455\n",
            "Epoch 44/200\n",
            "8/8 [==============================] - 1s 142ms/step - loss: 0.0077 - accuracy: 1.0000 - val_loss: 0.9124 - val_accuracy: 0.7273\n",
            "Epoch 45/200\n",
            "8/8 [==============================] - 1s 141ms/step - loss: 0.0071 - accuracy: 1.0000 - val_loss: 0.9687 - val_accuracy: 0.7455\n",
            "Epoch 46/200\n",
            "8/8 [==============================] - 1s 141ms/step - loss: 0.0032 - accuracy: 1.0000 - val_loss: 1.0036 - val_accuracy: 0.7273\n",
            "Epoch 47/200\n",
            "8/8 [==============================] - 1s 153ms/step - loss: 0.0053 - accuracy: 1.0000 - val_loss: 1.0104 - val_accuracy: 0.7455\n",
            "Epoch 48/200\n",
            "8/8 [==============================] - 2s 202ms/step - loss: 0.0076 - accuracy: 1.0000 - val_loss: 1.0177 - val_accuracy: 0.7636\n",
            "Epoch 49/200\n",
            "8/8 [==============================] - 1s 174ms/step - loss: 0.0053 - accuracy: 1.0000 - val_loss: 1.0204 - val_accuracy: 0.7818\n",
            "Epoch 50/200\n",
            "8/8 [==============================] - 1s 137ms/step - loss: 0.0035 - accuracy: 1.0000 - val_loss: 1.0300 - val_accuracy: 0.7455\n",
            "Epoch 51/200\n",
            "8/8 [==============================] - 1s 148ms/step - loss: 0.0224 - accuracy: 0.9956 - val_loss: 1.0303 - val_accuracy: 0.7455\n",
            "Epoch 52/200\n",
            "8/8 [==============================] - 1s 140ms/step - loss: 0.0045 - accuracy: 1.0000 - val_loss: 1.0685 - val_accuracy: 0.7273\n",
            "Epoch 53/200\n",
            "8/8 [==============================] - 1s 143ms/step - loss: 0.0064 - accuracy: 1.0000 - val_loss: 1.0883 - val_accuracy: 0.7455\n",
            "Epoch 54/200\n",
            "8/8 [==============================] - 1s 141ms/step - loss: 0.0079 - accuracy: 0.9956 - val_loss: 1.1425 - val_accuracy: 0.7636\n",
            "Epoch 55/200\n",
            "8/8 [==============================] - 1s 150ms/step - loss: 0.0045 - accuracy: 1.0000 - val_loss: 1.2088 - val_accuracy: 0.7636\n",
            "Epoch 56/200\n",
            "8/8 [==============================] - 1s 138ms/step - loss: 0.0033 - accuracy: 1.0000 - val_loss: 1.2084 - val_accuracy: 0.7636\n",
            "Epoch 57/200\n",
            "8/8 [==============================] - 1s 162ms/step - loss: 0.0070 - accuracy: 0.9956 - val_loss: 1.1863 - val_accuracy: 0.7091\n",
            "Epoch 58/200\n",
            "8/8 [==============================] - 1s 182ms/step - loss: 0.0025 - accuracy: 1.0000 - val_loss: 1.1443 - val_accuracy: 0.7091\n",
            "Epoch 59/200\n",
            "8/8 [==============================] - 1s 168ms/step - loss: 0.0069 - accuracy: 0.9956 - val_loss: 1.1390 - val_accuracy: 0.7273\n",
            "Epoch 60/200\n",
            "8/8 [==============================] - 1s 163ms/step - loss: 0.0028 - accuracy: 1.0000 - val_loss: 1.2144 - val_accuracy: 0.7455\n",
            "Epoch 61/200\n",
            "8/8 [==============================] - 1s 143ms/step - loss: 0.0026 - accuracy: 1.0000 - val_loss: 1.2498 - val_accuracy: 0.7636\n",
            "Epoch 62/200\n",
            "8/8 [==============================] - 1s 164ms/step - loss: 0.0055 - accuracy: 1.0000 - val_loss: 1.2608 - val_accuracy: 0.7455\n",
            "Epoch 63/200\n",
            "8/8 [==============================] - 1s 136ms/step - loss: 0.0096 - accuracy: 0.9956 - val_loss: 1.2782 - val_accuracy: 0.7636\n",
            "Epoch 64/200\n",
            "8/8 [==============================] - 1s 160ms/step - loss: 0.0491 - accuracy: 0.9782 - val_loss: 1.8223 - val_accuracy: 0.6727\n",
            "Epoch 65/200\n",
            "8/8 [==============================] - 1s 138ms/step - loss: 0.0342 - accuracy: 0.9913 - val_loss: 1.8324 - val_accuracy: 0.6364\n",
            "Epoch 66/200\n",
            "8/8 [==============================] - 1s 138ms/step - loss: 0.0653 - accuracy: 0.9782 - val_loss: 1.5612 - val_accuracy: 0.6727\n",
            "Epoch 67/200\n",
            "8/8 [==============================] - 1s 139ms/step - loss: 0.0182 - accuracy: 0.9913 - val_loss: 1.7395 - val_accuracy: 0.6727\n",
            "Epoch 68/200\n",
            "8/8 [==============================] - 1s 137ms/step - loss: 0.0233 - accuracy: 0.9913 - val_loss: 1.5222 - val_accuracy: 0.7273\n",
            "Epoch 69/200\n",
            "8/8 [==============================] - 1s 174ms/step - loss: 0.0369 - accuracy: 0.9913 - val_loss: 1.3216 - val_accuracy: 0.7273\n",
            "Epoch 70/200\n",
            "8/8 [==============================] - 1s 162ms/step - loss: 0.0357 - accuracy: 0.9956 - val_loss: 1.5232 - val_accuracy: 0.6727\n",
            "Epoch 71/200\n",
            "8/8 [==============================] - 1s 144ms/step - loss: 0.0334 - accuracy: 0.9913 - val_loss: 1.4629 - val_accuracy: 0.7455\n",
            "Epoch 72/200\n",
            "8/8 [==============================] - 1s 136ms/step - loss: 0.0153 - accuracy: 0.9956 - val_loss: 1.5196 - val_accuracy: 0.7636\n",
            "Epoch 73/200\n",
            "8/8 [==============================] - 1s 140ms/step - loss: 0.0260 - accuracy: 0.9913 - val_loss: 1.3105 - val_accuracy: 0.7455\n",
            "Epoch 74/200\n",
            "8/8 [==============================] - 1s 146ms/step - loss: 0.0221 - accuracy: 0.9956 - val_loss: 1.3424 - val_accuracy: 0.7455\n",
            "Epoch 75/200\n",
            "8/8 [==============================] - 1s 135ms/step - loss: 0.0482 - accuracy: 0.9825 - val_loss: 1.3536 - val_accuracy: 0.7091\n",
            "Epoch 76/200\n",
            "8/8 [==============================] - 1s 144ms/step - loss: 0.0165 - accuracy: 0.9913 - val_loss: 1.2168 - val_accuracy: 0.7273\n",
            "Epoch 77/200\n",
            "8/8 [==============================] - 1s 145ms/step - loss: 0.0084 - accuracy: 0.9956 - val_loss: 1.2420 - val_accuracy: 0.7273\n",
            "Epoch 78/200\n",
            "8/8 [==============================] - 1s 143ms/step - loss: 0.0152 - accuracy: 0.9913 - val_loss: 1.3323 - val_accuracy: 0.7091\n",
            "Epoch 79/200\n",
            "8/8 [==============================] - 1s 176ms/step - loss: 0.0086 - accuracy: 1.0000 - val_loss: 1.4294 - val_accuracy: 0.6909\n",
            "Epoch 80/200\n",
            "8/8 [==============================] - 1s 185ms/step - loss: 0.0175 - accuracy: 0.9913 - val_loss: 1.4797 - val_accuracy: 0.7091\n",
            "Epoch 81/200\n",
            "8/8 [==============================] - 1s 130ms/step - loss: 0.0382 - accuracy: 0.9913 - val_loss: 1.2829 - val_accuracy: 0.7273\n",
            "Epoch 82/200\n",
            "8/8 [==============================] - 1s 167ms/step - loss: 0.0026 - accuracy: 1.0000 - val_loss: 1.1858 - val_accuracy: 0.7091\n",
            "Epoch 83/200\n",
            "8/8 [==============================] - 1s 140ms/step - loss: 0.0196 - accuracy: 0.9913 - val_loss: 1.1824 - val_accuracy: 0.7636\n",
            "Epoch 84/200\n",
            "8/8 [==============================] - 1s 143ms/step - loss: 0.0023 - accuracy: 1.0000 - val_loss: 1.2582 - val_accuracy: 0.7818\n",
            "Epoch 85/200\n",
            "8/8 [==============================] - 1s 146ms/step - loss: 0.0033 - accuracy: 1.0000 - val_loss: 1.2627 - val_accuracy: 0.7273\n",
            "Epoch 86/200\n",
            "8/8 [==============================] - 1s 141ms/step - loss: 0.0028 - accuracy: 1.0000 - val_loss: 1.2985 - val_accuracy: 0.6909\n",
            "Epoch 87/200\n",
            "8/8 [==============================] - 1s 146ms/step - loss: 0.0034 - accuracy: 1.0000 - val_loss: 1.3579 - val_accuracy: 0.6909\n",
            "Epoch 88/200\n",
            "8/8 [==============================] - 2s 182ms/step - loss: 0.0028 - accuracy: 1.0000 - val_loss: 1.4075 - val_accuracy: 0.6909\n",
            "Epoch 89/200\n",
            "8/8 [==============================] - 1s 202ms/step - loss: 0.0065 - accuracy: 1.0000 - val_loss: 1.3673 - val_accuracy: 0.6909\n",
            "Epoch 90/200\n",
            "8/8 [==============================] - 1s 177ms/step - loss: 0.0090 - accuracy: 0.9956 - val_loss: 1.3450 - val_accuracy: 0.6909\n",
            "Epoch 91/200\n",
            "8/8 [==============================] - 1s 148ms/step - loss: 0.0016 - accuracy: 1.0000 - val_loss: 1.3228 - val_accuracy: 0.6909\n",
            "Epoch 92/200\n",
            "8/8 [==============================] - 1s 139ms/step - loss: 0.0012 - accuracy: 1.0000 - val_loss: 1.3213 - val_accuracy: 0.7091\n",
            "Epoch 93/200\n",
            "8/8 [==============================] - 1s 138ms/step - loss: 0.0019 - accuracy: 1.0000 - val_loss: 1.3167 - val_accuracy: 0.6909\n",
            "Epoch 94/200\n",
            "8/8 [==============================] - 1s 159ms/step - loss: 0.0013 - accuracy: 1.0000 - val_loss: 1.3144 - val_accuracy: 0.7091\n",
            "Epoch 95/200\n",
            "8/8 [==============================] - 1s 133ms/step - loss: 0.0040 - accuracy: 1.0000 - val_loss: 1.3004 - val_accuracy: 0.7455\n",
            "Epoch 96/200\n",
            "8/8 [==============================] - 1s 136ms/step - loss: 3.9989e-04 - accuracy: 1.0000 - val_loss: 1.3039 - val_accuracy: 0.7455\n",
            "Epoch 97/200\n",
            "8/8 [==============================] - 1s 140ms/step - loss: 0.0130 - accuracy: 0.9956 - val_loss: 1.3683 - val_accuracy: 0.7273\n",
            "Epoch 98/200\n",
            "8/8 [==============================] - 1s 154ms/step - loss: 0.0096 - accuracy: 0.9956 - val_loss: 1.4191 - val_accuracy: 0.7273\n",
            "Epoch 99/200\n",
            "8/8 [==============================] - 1s 172ms/step - loss: 0.0035 - accuracy: 1.0000 - val_loss: 1.4450 - val_accuracy: 0.7273\n",
            "Epoch 100/200\n",
            "8/8 [==============================] - 1s 156ms/step - loss: 0.0019 - accuracy: 1.0000 - val_loss: 1.4589 - val_accuracy: 0.7455\n",
            "Epoch 101/200\n",
            "8/8 [==============================] - 1s 164ms/step - loss: 0.0014 - accuracy: 1.0000 - val_loss: 1.4890 - val_accuracy: 0.7273\n",
            "Epoch 102/200\n",
            "8/8 [==============================] - 1s 139ms/step - loss: 0.0024 - accuracy: 1.0000 - val_loss: 1.4402 - val_accuracy: 0.7273\n",
            "Epoch 103/200\n",
            "8/8 [==============================] - 1s 143ms/step - loss: 0.0072 - accuracy: 0.9956 - val_loss: 1.4006 - val_accuracy: 0.7091\n",
            "Epoch 104/200\n",
            "8/8 [==============================] - 1s 141ms/step - loss: 7.3148e-04 - accuracy: 1.0000 - val_loss: 1.3626 - val_accuracy: 0.7273\n",
            "Epoch 105/200\n",
            "8/8 [==============================] - 1s 142ms/step - loss: 0.0021 - accuracy: 1.0000 - val_loss: 1.3418 - val_accuracy: 0.7455\n",
            "Epoch 106/200\n",
            "8/8 [==============================] - 1s 139ms/step - loss: 0.0035 - accuracy: 1.0000 - val_loss: 1.3754 - val_accuracy: 0.7273\n",
            "Epoch 107/200\n",
            "8/8 [==============================] - 1s 151ms/step - loss: 9.5518e-04 - accuracy: 1.0000 - val_loss: 1.4191 - val_accuracy: 0.7455\n",
            "Epoch 108/200\n",
            "8/8 [==============================] - 2s 193ms/step - loss: 4.1516e-04 - accuracy: 1.0000 - val_loss: 1.4448 - val_accuracy: 0.7455\n",
            "Epoch 109/200\n",
            "8/8 [==============================] - 1s 140ms/step - loss: 0.0067 - accuracy: 1.0000 - val_loss: 1.4385 - val_accuracy: 0.7455\n",
            "Epoch 110/200\n",
            "8/8 [==============================] - 1s 134ms/step - loss: 0.0043 - accuracy: 0.9956 - val_loss: 1.4387 - val_accuracy: 0.7273\n",
            "Epoch 111/200\n",
            "8/8 [==============================] - 1s 137ms/step - loss: 0.0041 - accuracy: 0.9956 - val_loss: 1.5200 - val_accuracy: 0.7636\n",
            "Epoch 112/200\n",
            "8/8 [==============================] - 1s 158ms/step - loss: 8.4653e-04 - accuracy: 1.0000 - val_loss: 1.5987 - val_accuracy: 0.7273\n",
            "Epoch 113/200\n",
            "8/8 [==============================] - 1s 134ms/step - loss: 0.0016 - accuracy: 1.0000 - val_loss: 1.5626 - val_accuracy: 0.7273\n",
            "Epoch 114/200\n",
            "8/8 [==============================] - 1s 149ms/step - loss: 0.0031 - accuracy: 1.0000 - val_loss: 1.5349 - val_accuracy: 0.7455\n",
            "Epoch 115/200\n",
            "8/8 [==============================] - 1s 146ms/step - loss: 0.0012 - accuracy: 1.0000 - val_loss: 1.5123 - val_accuracy: 0.7636\n",
            "Epoch 116/200\n",
            "8/8 [==============================] - 1s 165ms/step - loss: 0.0139 - accuracy: 0.9913 - val_loss: 1.4572 - val_accuracy: 0.7091\n",
            "Epoch 117/200\n",
            "8/8 [==============================] - 1s 156ms/step - loss: 6.5338e-04 - accuracy: 1.0000 - val_loss: 1.4637 - val_accuracy: 0.7091\n",
            "Epoch 118/200\n",
            "8/8 [==============================] - 1s 175ms/step - loss: 0.0061 - accuracy: 0.9956 - val_loss: 1.4377 - val_accuracy: 0.7091\n",
            "Epoch 119/200\n",
            "8/8 [==============================] - 1s 133ms/step - loss: 0.0025 - accuracy: 1.0000 - val_loss: 1.4640 - val_accuracy: 0.7091\n",
            "Epoch 120/200\n",
            "8/8 [==============================] - 1s 166ms/step - loss: 0.0033 - accuracy: 1.0000 - val_loss: 1.4487 - val_accuracy: 0.7091\n",
            "Epoch 121/200\n",
            "8/8 [==============================] - 1s 129ms/step - loss: 0.0023 - accuracy: 1.0000 - val_loss: 1.2879 - val_accuracy: 0.7455\n",
            "Epoch 122/200\n",
            "8/8 [==============================] - 1s 150ms/step - loss: 0.0030 - accuracy: 1.0000 - val_loss: 1.2876 - val_accuracy: 0.7455\n",
            "Epoch 123/200\n",
            "8/8 [==============================] - 1s 142ms/step - loss: 0.0047 - accuracy: 0.9956 - val_loss: 1.3377 - val_accuracy: 0.7455\n",
            "Epoch 124/200\n",
            "8/8 [==============================] - 1s 167ms/step - loss: 0.0111 - accuracy: 0.9956 - val_loss: 1.2720 - val_accuracy: 0.7455\n",
            "Epoch 125/200\n",
            "8/8 [==============================] - 1s 139ms/step - loss: 0.0011 - accuracy: 1.0000 - val_loss: 1.2343 - val_accuracy: 0.7455\n",
            "Epoch 126/200\n",
            "8/8 [==============================] - 1s 137ms/step - loss: 0.0034 - accuracy: 1.0000 - val_loss: 1.3435 - val_accuracy: 0.7455\n",
            "Epoch 127/200\n",
            "8/8 [==============================] - 1s 173ms/step - loss: 0.0030 - accuracy: 1.0000 - val_loss: 1.4912 - val_accuracy: 0.7455\n",
            "Epoch 128/200\n",
            "8/8 [==============================] - 1s 169ms/step - loss: 0.0013 - accuracy: 1.0000 - val_loss: 1.5337 - val_accuracy: 0.7455\n",
            "Epoch 129/200\n",
            "8/8 [==============================] - 1s 141ms/step - loss: 0.0027 - accuracy: 1.0000 - val_loss: 1.5538 - val_accuracy: 0.7273\n",
            "Epoch 130/200\n",
            "8/8 [==============================] - 1s 142ms/step - loss: 6.6991e-04 - accuracy: 1.0000 - val_loss: 1.5390 - val_accuracy: 0.7273\n",
            "Epoch 131/200\n",
            "8/8 [==============================] - 1s 139ms/step - loss: 0.0022 - accuracy: 1.0000 - val_loss: 1.5351 - val_accuracy: 0.7455\n",
            "Epoch 132/200\n",
            "8/8 [==============================] - 1s 132ms/step - loss: 8.4583e-04 - accuracy: 1.0000 - val_loss: 1.5272 - val_accuracy: 0.7273\n",
            "Epoch 133/200\n",
            "8/8 [==============================] - 1s 144ms/step - loss: 6.0117e-04 - accuracy: 1.0000 - val_loss: 1.5123 - val_accuracy: 0.7091\n",
            "Epoch 134/200\n",
            "8/8 [==============================] - 1s 153ms/step - loss: 0.0134 - accuracy: 0.9956 - val_loss: 1.3794 - val_accuracy: 0.7091\n",
            "Epoch 135/200\n",
            "8/8 [==============================] - 1s 141ms/step - loss: 0.0059 - accuracy: 0.9956 - val_loss: 1.2892 - val_accuracy: 0.7091\n",
            "Epoch 136/200\n",
            "8/8 [==============================] - 1s 164ms/step - loss: 3.1998e-04 - accuracy: 1.0000 - val_loss: 1.2411 - val_accuracy: 0.7455\n",
            "Epoch 137/200\n",
            "8/8 [==============================] - 1s 146ms/step - loss: 6.2255e-04 - accuracy: 1.0000 - val_loss: 1.2286 - val_accuracy: 0.7273\n",
            "Epoch 138/200\n",
            "8/8 [==============================] - 1s 138ms/step - loss: 3.6623e-04 - accuracy: 1.0000 - val_loss: 1.2225 - val_accuracy: 0.7273\n",
            "Epoch 139/200\n",
            "8/8 [==============================] - 1s 138ms/step - loss: 0.0030 - accuracy: 1.0000 - val_loss: 1.1464 - val_accuracy: 0.7636\n",
            "Epoch 140/200\n",
            "8/8 [==============================] - 1s 130ms/step - loss: 0.0012 - accuracy: 1.0000 - val_loss: 1.1407 - val_accuracy: 0.7273\n",
            "Epoch 141/200\n",
            "8/8 [==============================] - 1s 139ms/step - loss: 9.4386e-04 - accuracy: 1.0000 - val_loss: 1.1674 - val_accuracy: 0.7455\n",
            "Epoch 142/200\n",
            "8/8 [==============================] - 1s 136ms/step - loss: 6.3090e-04 - accuracy: 1.0000 - val_loss: 1.1838 - val_accuracy: 0.7455\n",
            "Epoch 143/200\n",
            "8/8 [==============================] - 1s 136ms/step - loss: 8.9011e-04 - accuracy: 1.0000 - val_loss: 1.1989 - val_accuracy: 0.7636\n",
            "Epoch 144/200\n",
            "8/8 [==============================] - 1s 138ms/step - loss: 0.0028 - accuracy: 1.0000 - val_loss: 1.2062 - val_accuracy: 0.7636\n",
            "Epoch 145/200\n",
            "8/8 [==============================] - 1s 143ms/step - loss: 4.5075e-04 - accuracy: 1.0000 - val_loss: 1.2126 - val_accuracy: 0.7636\n",
            "Epoch 146/200\n",
            "8/8 [==============================] - 1s 199ms/step - loss: 8.1260e-04 - accuracy: 1.0000 - val_loss: 1.2277 - val_accuracy: 0.7818\n",
            "Epoch 147/200\n",
            "8/8 [==============================] - 1s 164ms/step - loss: 0.0026 - accuracy: 1.0000 - val_loss: 1.2917 - val_accuracy: 0.7455\n",
            "Epoch 148/200\n",
            "8/8 [==============================] - 1s 143ms/step - loss: 0.0102 - accuracy: 0.9913 - val_loss: 1.3582 - val_accuracy: 0.6909\n",
            "Epoch 149/200\n",
            "8/8 [==============================] - 1s 134ms/step - loss: 0.0372 - accuracy: 0.9913 - val_loss: 1.2562 - val_accuracy: 0.6909\n",
            "Epoch 150/200\n",
            "8/8 [==============================] - 1s 137ms/step - loss: 0.0210 - accuracy: 0.9913 - val_loss: 1.4657 - val_accuracy: 0.7455\n",
            "Epoch 151/200\n",
            "8/8 [==============================] - 1s 132ms/step - loss: 0.0207 - accuracy: 0.9913 - val_loss: 1.4807 - val_accuracy: 0.7455\n",
            "Epoch 152/200\n",
            "8/8 [==============================] - 1s 137ms/step - loss: 0.0074 - accuracy: 0.9956 - val_loss: 1.4253 - val_accuracy: 0.7455\n",
            "Epoch 153/200\n",
            "8/8 [==============================] - 1s 144ms/step - loss: 0.0085 - accuracy: 0.9913 - val_loss: 1.6019 - val_accuracy: 0.7091\n",
            "Epoch 154/200\n",
            "8/8 [==============================] - 1s 136ms/step - loss: 0.0164 - accuracy: 0.9956 - val_loss: 1.5479 - val_accuracy: 0.7455\n",
            "Epoch 155/200\n",
            "8/8 [==============================] - 1s 136ms/step - loss: 0.0025 - accuracy: 1.0000 - val_loss: 1.6132 - val_accuracy: 0.7636\n",
            "Epoch 156/200\n",
            "8/8 [==============================] - 1s 169ms/step - loss: 0.0082 - accuracy: 0.9956 - val_loss: 1.4714 - val_accuracy: 0.7636\n",
            "Epoch 157/200\n",
            "8/8 [==============================] - 1s 186ms/step - loss: 0.0052 - accuracy: 1.0000 - val_loss: 1.3900 - val_accuracy: 0.7273\n",
            "Epoch 158/200\n",
            "8/8 [==============================] - 1s 138ms/step - loss: 0.0339 - accuracy: 0.9913 - val_loss: 1.5435 - val_accuracy: 0.8182\n",
            "Epoch 159/200\n",
            "8/8 [==============================] - 1s 146ms/step - loss: 0.0218 - accuracy: 0.9913 - val_loss: 1.5458 - val_accuracy: 0.7273\n",
            "Epoch 160/200\n",
            "8/8 [==============================] - 1s 141ms/step - loss: 0.0167 - accuracy: 0.9869 - val_loss: 1.8993 - val_accuracy: 0.7091\n",
            "Epoch 161/200\n",
            "8/8 [==============================] - 1s 131ms/step - loss: 0.0370 - accuracy: 0.9913 - val_loss: 1.3201 - val_accuracy: 0.7091\n",
            "Epoch 162/200\n",
            "8/8 [==============================] - 1s 138ms/step - loss: 0.0295 - accuracy: 0.9869 - val_loss: 1.5270 - val_accuracy: 0.6909\n",
            "Epoch 163/200\n",
            "8/8 [==============================] - 1s 142ms/step - loss: 0.0266 - accuracy: 0.9913 - val_loss: 1.1585 - val_accuracy: 0.7455\n",
            "Epoch 164/200\n",
            "8/8 [==============================] - 1s 138ms/step - loss: 0.0164 - accuracy: 0.9956 - val_loss: 0.9882 - val_accuracy: 0.7455\n",
            "Epoch 165/200\n",
            "8/8 [==============================] - 1s 143ms/step - loss: 0.0218 - accuracy: 0.9913 - val_loss: 1.2849 - val_accuracy: 0.7273\n",
            "Epoch 166/200\n",
            "8/8 [==============================] - 1s 174ms/step - loss: 0.0415 - accuracy: 0.9913 - val_loss: 1.2539 - val_accuracy: 0.7455\n",
            "Epoch 167/200\n",
            "8/8 [==============================] - 1s 188ms/step - loss: 0.0325 - accuracy: 0.9956 - val_loss: 1.3080 - val_accuracy: 0.8000\n",
            "Epoch 168/200\n",
            "8/8 [==============================] - 1s 153ms/step - loss: 0.0554 - accuracy: 0.9738 - val_loss: 2.5972 - val_accuracy: 0.6545\n",
            "Epoch 169/200\n",
            "8/8 [==============================] - 1s 134ms/step - loss: 0.0724 - accuracy: 0.9913 - val_loss: 1.8760 - val_accuracy: 0.7273\n",
            "Epoch 170/200\n",
            "8/8 [==============================] - 1s 144ms/step - loss: 0.1163 - accuracy: 0.9738 - val_loss: 1.9011 - val_accuracy: 0.7273\n",
            "Epoch 171/200\n",
            "8/8 [==============================] - 1s 135ms/step - loss: 0.0297 - accuracy: 0.9913 - val_loss: 2.6315 - val_accuracy: 0.7273\n",
            "Epoch 172/200\n",
            "8/8 [==============================] - 1s 137ms/step - loss: 0.1396 - accuracy: 0.9694 - val_loss: 3.0291 - val_accuracy: 0.6000\n",
            "Epoch 173/200\n",
            "8/8 [==============================] - 1s 139ms/step - loss: 0.1069 - accuracy: 0.9782 - val_loss: 1.7131 - val_accuracy: 0.7091\n",
            "Epoch 174/200\n",
            "8/8 [==============================] - 1s 149ms/step - loss: 0.1325 - accuracy: 0.9782 - val_loss: 1.5400 - val_accuracy: 0.8182\n",
            "Epoch 175/200\n",
            "8/8 [==============================] - 1s 158ms/step - loss: 0.1413 - accuracy: 0.9651 - val_loss: 1.4420 - val_accuracy: 0.7455\n",
            "Epoch 176/200\n",
            "8/8 [==============================] - 1s 153ms/step - loss: 0.1239 - accuracy: 0.9782 - val_loss: 1.7401 - val_accuracy: 0.7455\n",
            "Epoch 177/200\n",
            "8/8 [==============================] - 1s 183ms/step - loss: 0.0265 - accuracy: 0.9869 - val_loss: 1.3729 - val_accuracy: 0.7636\n",
            "Epoch 178/200\n",
            "8/8 [==============================] - 1s 159ms/step - loss: 0.0237 - accuracy: 0.9913 - val_loss: 1.4593 - val_accuracy: 0.8000\n",
            "Epoch 179/200\n",
            "8/8 [==============================] - 1s 135ms/step - loss: 0.0469 - accuracy: 0.9782 - val_loss: 1.3226 - val_accuracy: 0.7455\n",
            "Epoch 180/200\n",
            "8/8 [==============================] - 1s 141ms/step - loss: 0.0858 - accuracy: 0.9825 - val_loss: 1.4414 - val_accuracy: 0.8000\n",
            "Epoch 181/200\n",
            "8/8 [==============================] - 1s 134ms/step - loss: 0.0230 - accuracy: 0.9913 - val_loss: 1.6033 - val_accuracy: 0.8364\n",
            "Epoch 182/200\n",
            "8/8 [==============================] - 1s 137ms/step - loss: 0.0048 - accuracy: 0.9956 - val_loss: 1.3241 - val_accuracy: 0.7818\n",
            "Epoch 183/200\n",
            "8/8 [==============================] - 1s 138ms/step - loss: 0.0151 - accuracy: 0.9913 - val_loss: 1.2932 - val_accuracy: 0.7636\n",
            "Epoch 184/200\n",
            "8/8 [==============================] - 1s 151ms/step - loss: 0.0203 - accuracy: 0.9913 - val_loss: 1.4539 - val_accuracy: 0.7818\n",
            "Epoch 185/200\n",
            "8/8 [==============================] - 1s 138ms/step - loss: 0.0024 - accuracy: 1.0000 - val_loss: 1.4794 - val_accuracy: 0.7818\n",
            "Epoch 186/200\n",
            "8/8 [==============================] - 1s 165ms/step - loss: 0.0449 - accuracy: 0.9913 - val_loss: 1.3448 - val_accuracy: 0.7636\n",
            "Epoch 187/200\n",
            "8/8 [==============================] - 1s 172ms/step - loss: 0.0020 - accuracy: 1.0000 - val_loss: 1.2735 - val_accuracy: 0.7636\n",
            "Epoch 188/200\n",
            "8/8 [==============================] - 1s 154ms/step - loss: 0.0083 - accuracy: 0.9956 - val_loss: 1.4359 - val_accuracy: 0.7273\n",
            "Epoch 189/200\n",
            "8/8 [==============================] - 1s 131ms/step - loss: 0.0070 - accuracy: 0.9956 - val_loss: 1.6834 - val_accuracy: 0.7091\n",
            "Epoch 190/200\n",
            "8/8 [==============================] - 1s 136ms/step - loss: 6.5695e-04 - accuracy: 1.0000 - val_loss: 1.7754 - val_accuracy: 0.7273\n",
            "Epoch 191/200\n",
            "8/8 [==============================] - 1s 135ms/step - loss: 0.0012 - accuracy: 1.0000 - val_loss: 1.7407 - val_accuracy: 0.7091\n",
            "Epoch 192/200\n",
            "8/8 [==============================] - 1s 164ms/step - loss: 0.0082 - accuracy: 0.9956 - val_loss: 1.4716 - val_accuracy: 0.7636\n",
            "Epoch 193/200\n",
            "8/8 [==============================] - 1s 133ms/step - loss: 0.0041 - accuracy: 1.0000 - val_loss: 1.4387 - val_accuracy: 0.7818\n",
            "Epoch 194/200\n",
            "8/8 [==============================] - 1s 149ms/step - loss: 5.2406e-04 - accuracy: 1.0000 - val_loss: 1.4681 - val_accuracy: 0.7636\n",
            "Epoch 195/200\n",
            "8/8 [==============================] - 1s 137ms/step - loss: 0.0246 - accuracy: 0.9913 - val_loss: 1.3468 - val_accuracy: 0.8000\n",
            "Epoch 196/200\n",
            "8/8 [==============================] - 1s 158ms/step - loss: 1.6012e-04 - accuracy: 1.0000 - val_loss: 1.2842 - val_accuracy: 0.7818\n",
            "Epoch 197/200\n",
            "8/8 [==============================] - 1s 166ms/step - loss: 8.6384e-04 - accuracy: 1.0000 - val_loss: 1.2968 - val_accuracy: 0.7636\n",
            "Epoch 198/200\n",
            "8/8 [==============================] - 1s 136ms/step - loss: 3.1803e-04 - accuracy: 1.0000 - val_loss: 1.3077 - val_accuracy: 0.7636\n",
            "Epoch 199/200\n",
            "8/8 [==============================] - 1s 161ms/step - loss: 0.0039 - accuracy: 1.0000 - val_loss: 1.3271 - val_accuracy: 0.8000\n",
            "Epoch 200/200\n",
            "8/8 [==============================] - 1s 138ms/step - loss: 3.6167e-04 - accuracy: 1.0000 - val_loss: 1.3975 - val_accuracy: 0.7818\n"
          ]
        },
        {
          "data": {
            "text/plain": [
              "<keras.src.callbacks.History at 0x7928223b33a0>"
            ]
          },
          "execution_count": 9,
          "metadata": {},
          "output_type": "execute_result"
        }
      ],
      "source": [
        "final_model.fit(train_data, batch_size=32, epochs=200, validation_data=val_data)"
      ]
    },
    {
      "cell_type": "code",
      "execution_count": null,
      "metadata": {
        "id": "bo3oIsXeT0Gp"
      },
      "outputs": [],
      "source": []
    }
  ],
  "metadata": {
    "colab": {
      "provenance": []
    },
    "kernelspec": {
      "display_name": "Python 3",
      "name": "python3"
    },
    "language_info": {
      "name": "python"
    }
  },
  "nbformat": 4,
  "nbformat_minor": 0
}